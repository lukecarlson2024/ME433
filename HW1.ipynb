{
  "nbformat": 4,
  "nbformat_minor": 0,
  "metadata": {
    "kernelspec": {
      "display_name": "Python 3",
      "language": "python",
      "name": "python3"
    },
    "language_info": {
      "codemirror_mode": {
        "name": "ipython",
        "version": 3
      },
      "file_extension": ".py",
      "mimetype": "text/x-python",
      "name": "python",
      "nbconvert_exporter": "python",
      "pygments_lexer": "ipython3",
      "version": "3.6.9"
    },
    "colab": {
      "provenance": [],
      "include_colab_link": true
    }
  },
  "cells": [
    {
      "cell_type": "markdown",
      "metadata": {
        "id": "view-in-github",
        "colab_type": "text"
      },
      "source": [
        "<a href=\"https://colab.research.google.com/github/lukecarlson2024/ME433/blob/main/HW1.ipynb\" target=\"_parent\"><img src=\"https://colab.research.google.com/assets/colab-badge.svg\" alt=\"Open In Colab\"/></a>"
      ]
    },
    {
      "cell_type": "markdown",
      "metadata": {
        "id": "p5AANcq8aXQE"
      },
      "source": [
        "# ME314 Homework 1\n",
        "\n",
        "###Submission instructions\n",
        "\n",
        "Deliverables that should be included with your submission are shown in **bold** at the end of each problem statement and the corresponding supplemental material. Your homework will be graded IFF you submit a **single** PDF and a link to a Google colab file that meet all the requirements outlined below.\n",
        "\n",
        "- List the names of students you've collaborated with on this homework assignment.\n",
        "- Include all of your code (and handwritten solutions when applicable) used to complete the problems.\n",
        "- Highlight your answers (i.e. **bold** and outline the answers) for handwritten or markdown questions and include simplified code outputs (e.g. .simplify()) for python questions.\n",
        "- Enable Google Colab permission for viewing \n",
        " * Click Share in the upper right corner\n",
        " * Under \"Get Link\" click \"Share with...\" or \"Change\" \n",
        " * Then make sure it says \"Anyone with Link\" and \"Editor\" under the dropdown menu\n",
        "- Make sure all cells are run before submitting (i.e. check the permission by running your code in a private mode)\n",
        " * Please don't make changes to your file after submitting, so we can grade it!\n",
        "- Submit a link to your Google Colab file that has been run (before the submission deadline) and don't edit it afterwards!\n",
        "\n",
        "**NOTE:** This Juputer Notebook file serves as a template for you to start homework. Make sure you first copy this template to your own Google driver (click \"File\" -> \"Save a copy in Drive\"), and then start to edit it."
      ]
    },
    {
      "cell_type": "code",
      "metadata": {
        "id": "e10BTR6Ldtgc"
      },
      "source": [
        "#IMPORT ALL NECESSARY PACKAGES AT THE TOP OF THE CODE\n",
        "#Collaborators: Sam Hodge\n",
        "import sympy as sym\n",
        "import numpy as np\n",
        "import matplotlib.pyplot as plt"
      ],
      "execution_count": null,
      "outputs": []
    },
    {
      "cell_type": "code",
      "metadata": {
        "id": "9HlLVMmeaXQF"
      },
      "source": [
        "def custom_latex_printer(exp,**options):\n",
        "    from google.colab.output._publish import javascript\n",
        "    url = \"https://cdnjs.cloudflare.com/ajax/libs/mathjax/3.1.1/latest.js?config=TeX-AMS_HTML\"\n",
        "    javascript(url=url)\n",
        "    return sym.printing.latex(exp,**options)\n",
        "sym.init_printing(use_latex=\"mathjax\",latex_printer=custom_latex_printer)"
      ],
      "execution_count": null,
      "outputs": []
    },
    {
      "cell_type": "markdown",
      "metadata": {
        "id": "R8KcW-HdaXQK"
      },
      "source": [
        "## Problem 1 (15pts)"
      ]
    },
    {
      "cell_type": "code",
      "source": [
        "from IPython.core.display import HTML\n",
        "display(HTML(\"<table><tr><td><img src='https://github.com/MuchenSun/ME314pngs/raw/master/2mass_spring.png' width=500' height='350'></table>\"))"
      ],
      "metadata": {
        "colab": {
          "base_uri": "https://localhost:8080/",
          "height": 377
        },
        "id": "Q4EUnq1kTchx",
        "outputId": "dc393983-187c-4da3-b045-3b7f1a1dbd21"
      },
      "execution_count": null,
      "outputs": [
        {
          "output_type": "display_data",
          "data": {
            "text/plain": [
              "<IPython.core.display.HTML object>"
            ],
            "text/html": [
              "<table><tr><td><img src='https://github.com/MuchenSun/ME314pngs/raw/master/2mass_spring.png' width=500' height='350'></table>"
            ]
          },
          "metadata": {}
        }
      ]
    },
    {
      "cell_type": "markdown",
      "source": [
        "As shown in the image above, a block of mass $m_1$ is on one side connected to a wall by a massless spring with a spring constant $k_1$ and on another side to a block of mass $m_2$ by a massless spring with a spring constant $k_2$. Assuming that the two springs have lengths of zero when \"relaxed\", they are stretched with any positive displacement $\\Delta x > 0$ and the magnitude of the force can be computed using Hooke's law $|F| = k \\Delta x$, where $k$ is the spring constant. Furthermore, there is no friction between the blocks and the ground. \n",
        "    \n",
        "Given masses $m_1=1kg$ and $ m_2=2kg$, spring constants $k_1=0.5N/m$ and $k_2=0.8N/m$, and positions of the blocks as $x_1$ and $x_2$, use Newton's law $F=ma$ to compute the accelerations of the blocks $a_1=\\ddot{x}_1$ and $a_2=\\ddot{x}_2$. You need to use Pythons's SymPy package to solve for symbolic solutions, as well as numerically evaluate your solutions for $a_1$ and $a_2$ as functions of $x_1$ and $x_2$ respectively. Test your numerical functions with $x_1=1m$ and $x_2=3m$ as function inputs. \n",
        "\n",
        "*Hint 1: You will have two equations based on Newton's law $F=ma$ for each block. Thus, for each block you need to write down its $F$ in terms of $x_1$ and $x_2$ (which can be defined as symbols in SymPy).*\n",
        "\n",
        "*Hint 2: You will need to use SymPy's **`solve()`** and **`lambdify()`** methods in this problem as seen in Homework 0. This problem is very similar to Problem 5 in Homework 0, except that (1) you need to write down the equations yourself, and (2) you don't need to solve the equations simultaneously - you can solve them one by one for each block. Feel free to take the example code in Homework 0 as a starting point.*\n",
        "\n",
        "*Hint 3: You will need to use **`lambdify()`** to numerically evaluate a function with multiple variables. Below is an example.*"
      ],
      "metadata": {
        "id": "aRvSsEyeTmmA"
      }
    },
    {
      "cell_type": "code",
      "metadata": {
        "id": "sWtszMPMaXQK",
        "colab": {
          "base_uri": "https://localhost:8080/",
          "height": 119
        },
        "outputId": "0de85583-3769-4c61-e5d9-c3c33ce94a2f"
      },
      "source": [
        "# from sympy.abc import x, y, z or\n",
        "x,y,z = sym.symbols(r'x,y,z')\n",
        "expr = sym.sin(x) * y**2 * z + x*z + x/z**2\n",
        "print('\\033[1mExample expression: ')\n",
        "display(expr)\n",
        "\n",
        "# method 1: the numerical function will take variables one by one\n",
        "func = sym.lambdify([x, y, z], expr)\n",
        "print('\\n\\033[1mTest at x=1, y=2, z=3: \\033[0m{:.2f}'.format(func(1, 2, 3)))\n",
        "\n",
        "# method 2: the numerical function will take variables cotained in one list/array\n",
        "func = sym.lambdify([[x, y, z]], expr)\n",
        "print('\\033[1mTest at x=1, y=2, z=3: \\033[0m{:.2f}'.format(func([1, 2, 3])))"
      ],
      "execution_count": null,
      "outputs": [
        {
          "output_type": "stream",
          "name": "stdout",
          "text": [
            "\u001b[1mExample expression: \n"
          ]
        },
        {
          "output_type": "display_data",
          "data": {
            "text/plain": [
              "<IPython.core.display.HTML object>"
            ],
            "text/html": [
              "<script src='https://cdnjs.cloudflare.com/ajax/libs/mathjax/3.1.1/latest.js?config=TeX-AMS_HTML'></script>"
            ]
          },
          "metadata": {}
        },
        {
          "output_type": "display_data",
          "data": {
            "text/plain": [
              "      x     2         \n",
              "x⋅z + ── + y ⋅z⋅sin(x)\n",
              "       2              \n",
              "      z               "
            ],
            "text/latex": "$\\displaystyle x z + \\frac{x}{z^{2}} + y^{2} z \\sin{\\left(x \\right)}$"
          },
          "metadata": {}
        },
        {
          "output_type": "stream",
          "name": "stdout",
          "text": [
            "\n",
            "\u001b[1mTest at x=1, y=2, z=3: \u001b[0m13.21\n",
            "\u001b[1mTest at x=1, y=2, z=3: \u001b[0m13.21\n"
          ]
        }
      ]
    },
    {
      "cell_type": "markdown",
      "metadata": {
        "id": "mBdOhX1vaXQO"
      },
      "source": [
        "**Turn in: A copy of the code used to solve for symbolic solutions and evaluate them as numerical functions, output of the code as well as the test results for numerical functions.**"
      ]
    },
    {
      "cell_type": "code",
      "metadata": {
        "id": "-ZivndofaXQP",
        "colab": {
          "base_uri": "https://localhost:8080/",
          "height": 221
        },
        "outputId": "b37bc372-584c-4dc6-aa3e-52a8a4da94ec"
      },
      "source": [
        "x1, x2 = sym.symbols(r'x1,x2')\n",
        "a1, a2 = sym.symbols(r'a1,a2')\n",
        "#ma = sum of k*x's\n",
        "#block1: m1*a1 = -k1*x1 + k2*(x2-x1)\n",
        "#block2: m2*a2 = -k2*(x2-x1)\n",
        "\n",
        "eqn1 = sym.Eq(1*a1, -.5*x1 + .8*(x2-x1))\n",
        "eqn2 = sym.Eq(2*a2, -.8*(x2-x1))\n",
        "print('Equation for block 1: ')\n",
        "display(eqn1)\n",
        "print('Equation for block 2: ')\n",
        "display(eqn2)\n",
        "\n",
        "#solve for accelerations\n",
        "a1_sol = sym.solve(eqn1, a1) # this method returns a list, \n",
        "                             # which may include multiple solutions\n",
        "\n",
        "a2_sol = sym.solve(eqn2, a2) # this method returns a list, \n",
        "                             # which may include multiple solutions\n",
        "print('Symbolic solutions')\n",
        "print(a1_sol)\n",
        "print(a2_sol)\n",
        "a1_expr = a1_sol[0]\n",
        "a2_expr = a2_sol[0]\n",
        "\n",
        "#method 1\n",
        "func1 = sym.lambdify([x1, x2], a1_expr)\n",
        "print('Block 1: ')\n",
        "print('\\033[1mTest at x1=1, x2=3: \\033[0m{:.2f}'.format(func1(1, 3)))\n",
        "\n",
        "func2 = sym.lambdify([x1, x2], a2_expr)\n",
        "print('Block 2: ')\n",
        "print('\\033[1mTest at x1=1, x2=3: \\033[0m{:.2f}'.format(func2(1, 3)))"
      ],
      "execution_count": null,
      "outputs": [
        {
          "output_type": "stream",
          "name": "stdout",
          "text": [
            "Equation for block 1: \n"
          ]
        },
        {
          "output_type": "display_data",
          "data": {
            "text/plain": [
              "<IPython.core.display.HTML object>"
            ],
            "text/html": [
              "<script src='https://cdnjs.cloudflare.com/ajax/libs/mathjax/3.1.1/latest.js?config=TeX-AMS_HTML'></script>"
            ]
          },
          "metadata": {}
        },
        {
          "output_type": "display_data",
          "data": {
            "text/plain": [
              "a₁ = -1.3⋅x₁ + 0.8⋅x₂"
            ],
            "text/latex": "$\\displaystyle a_{1} = - 1.3 x_{1} + 0.8 x_{2}$"
          },
          "metadata": {}
        },
        {
          "output_type": "stream",
          "name": "stdout",
          "text": [
            "Equation for block 2: \n"
          ]
        },
        {
          "output_type": "display_data",
          "data": {
            "text/plain": [
              "<IPython.core.display.HTML object>"
            ],
            "text/html": [
              "<script src='https://cdnjs.cloudflare.com/ajax/libs/mathjax/3.1.1/latest.js?config=TeX-AMS_HTML'></script>"
            ]
          },
          "metadata": {}
        },
        {
          "output_type": "display_data",
          "data": {
            "text/plain": [
              "2⋅a₂ = 0.8⋅x₁ - 0.8⋅x₂"
            ],
            "text/latex": "$\\displaystyle 2 a_{2} = 0.8 x_{1} - 0.8 x_{2}$"
          },
          "metadata": {}
        },
        {
          "output_type": "stream",
          "name": "stdout",
          "text": [
            "Symbolic solutions\n",
            "[-1.3*x1 + 0.8*x2]\n",
            "[0.4*x1 - 0.4*x2]\n",
            "Block 1: \n",
            "\u001b[1mTest at x1=1, x2=3: \u001b[0m1.10\n",
            "Block 2: \n",
            "\u001b[1mTest at x1=1, x2=3: \u001b[0m-0.80\n"
          ]
        }
      ]
    },
    {
      "cell_type": "markdown",
      "metadata": {
        "id": "2GySmCekaXRC"
      },
      "source": [
        "## Problem 2 (10pts)\n",
        "\n",
        "For the same system in Problem 1, compute the Lagrangian of the system using Python's SymPy package with $x_1$, $x_2$ as system configuration variables.\n",
        "\n",
        "*Hint 1: For an object with mass $m$ and velocity $v$, its kinetic energy is $\\frac{1}{2} mv^2$.*\n",
        "\n",
        "*Hint 2: For a spring stretched with displacement $\\Delta x$ and spring ratio $k$, its potential energy is $\\frac{1}{2} k (\\Delta x)^2$. Also, the springs have zero mass.*\n",
        "\n",
        "*Hint 3: Since $x_1$ and $x_2$ are actually functions of time $t$, in order to compute Euler-Lagrange equations you will need to take their derivative with respect to $t$. Instead of defining position and velocity as two separate symbols, you need to define position as SymPy's **Function** object and the velocity as the derivative of that function with respect to time $t$. An example is provided below.*"
      ]
    },
    {
      "cell_type": "code",
      "metadata": {
        "id": "OvgRhdLMaXRC",
        "colab": {
          "base_uri": "https://localhost:8080/",
          "height": 220
        },
        "outputId": "2195e2e4-17e0-4ccc-fc40-ba261abd8043"
      },
      "source": [
        "t = sym.symbols('t')\n",
        "# define position as function of t\n",
        "x1 = sym.Function(r'x_1')(t)\n",
        "# define velocity as derivative of position wrt t\n",
        "x1dot = x1.diff(t)\n",
        "# define acceleration as derivative of velocity wrt t\n",
        "x1ddot = x1dot.diff(t)\n",
        "\n",
        "# now write down an expression in terms of position and velocity\n",
        "expr = x1**2 + x1*x1dot\n",
        "print('\\033[1mExample expression: ')\n",
        "display(expr)\n",
        "# you can take the derivative of this expression wrt to time t\n",
        "expr_dt = expr.diff(t)\n",
        "print('\\n\\033[1mDerivative of expression w.r.t. time (t): ')\n",
        "display(expr_dt)\n",
        "# or you can take the derivative wrt the functions: x, xdot, xddot\n",
        "expr_dx = expr.diff(x1)\n",
        "print('\\n\\033[1mDerivative of expression w.r.t. x1(t): ')\n",
        "display(expr_dx)"
      ],
      "execution_count": null,
      "outputs": [
        {
          "output_type": "stream",
          "name": "stdout",
          "text": [
            "\u001b[1mExample expression: \n"
          ]
        },
        {
          "output_type": "display_data",
          "data": {
            "text/plain": [
              "<IPython.core.display.HTML object>"
            ],
            "text/html": [
              "<script src='https://cdnjs.cloudflare.com/ajax/libs/mathjax/3.1.1/latest.js?config=TeX-AMS_HTML'></script>"
            ]
          },
          "metadata": {}
        },
        {
          "output_type": "display_data",
          "data": {
            "text/plain": [
              "  2            d        \n",
              "x₁ (t) + x₁(t)⋅──(x₁(t))\n",
              "               dt       "
            ],
            "text/latex": "$\\displaystyle x_{1}^{2}{\\left(t \\right)} + x_{1}{\\left(t \\right)} \\frac{d}{d t} x_{1}{\\left(t \\right)}$"
          },
          "metadata": {}
        },
        {
          "output_type": "stream",
          "name": "stdout",
          "text": [
            "\n",
            "\u001b[1mDerivative of expression w.r.t. time (t): \n"
          ]
        },
        {
          "output_type": "display_data",
          "data": {
            "text/plain": [
              "<IPython.core.display.HTML object>"
            ],
            "text/html": [
              "<script src='https://cdnjs.cloudflare.com/ajax/libs/mathjax/3.1.1/latest.js?config=TeX-AMS_HTML'></script>"
            ]
          },
          "metadata": {}
        },
        {
          "output_type": "display_data",
          "data": {
            "text/plain": [
              "                            2                     2\n",
              "        d                  d           ⎛d        ⎞ \n",
              "2⋅x₁(t)⋅──(x₁(t)) + x₁(t)⋅───(x₁(t)) + ⎜──(x₁(t))⎟ \n",
              "        dt                  2          ⎝dt       ⎠ \n",
              "                          dt                       "
            ],
            "text/latex": "$\\displaystyle 2 x_{1}{\\left(t \\right)} \\frac{d}{d t} x_{1}{\\left(t \\right)} + x_{1}{\\left(t \\right)} \\frac{d^{2}}{d t^{2}} x_{1}{\\left(t \\right)} + \\left(\\frac{d}{d t} x_{1}{\\left(t \\right)}\\right)^{2}$"
          },
          "metadata": {}
        },
        {
          "output_type": "stream",
          "name": "stdout",
          "text": [
            "\n",
            "\u001b[1mDerivative of expression w.r.t. x1(t): \n"
          ]
        },
        {
          "output_type": "display_data",
          "data": {
            "text/plain": [
              "<IPython.core.display.HTML object>"
            ],
            "text/html": [
              "<script src='https://cdnjs.cloudflare.com/ajax/libs/mathjax/3.1.1/latest.js?config=TeX-AMS_HTML'></script>"
            ]
          },
          "metadata": {}
        },
        {
          "output_type": "display_data",
          "data": {
            "text/plain": [
              "          d        \n",
              "2⋅x₁(t) + ──(x₁(t))\n",
              "          dt       "
            ],
            "text/latex": "$\\displaystyle 2 x_{1}{\\left(t \\right)} + \\frac{d}{d t} x_{1}{\\left(t \\right)}$"
          },
          "metadata": {}
        }
      ]
    },
    {
      "cell_type": "markdown",
      "metadata": {
        "id": "Mn5Oe2QVaXSP"
      },
      "source": [
        "**Turn in: A copy of the code used to symbolically compute the Lagrangian and corresponding output of the code (i.e. the computed Lagrangian.)**"
      ]
    },
    {
      "cell_type": "code",
      "metadata": {
        "id": "YdxntM2maXSP",
        "colab": {
          "base_uri": "https://localhost:8080/",
          "height": 79
        },
        "outputId": "64297251-5528-40f0-f270-d9b879461fb2"
      },
      "source": [
        "t = sym.symbols('t')\n",
        "\n",
        "# define position x1 as function of t\n",
        "x1 = sym.Function(r'x_1')(t)\n",
        "# define velocity as derivative of position wrt t\n",
        "x1dot = x1.diff(t)\n",
        "# define acceleration as derivative of velocity wrt t\n",
        "x1ddot = x1dot.diff(t)\n",
        "\n",
        "# define position x2 as function of t\n",
        "x2 = sym.Function(r'x_2')(t)\n",
        "# define velocity as derivative of position wrt t\n",
        "x2dot = x2.diff(t)\n",
        "# define acceleration as derivative of velocity wrt t\n",
        "x2ddot = x2dot.diff(t)\n",
        "\n",
        "#write out and display lagrangian\n",
        "lagrangian = .5*1*x1dot**2+.5*2*x2dot**2-.5*.5*x1**2-.5*.8*(x2-x1)**2\n",
        "print('Lagrangian: ')\n",
        "display(lagrangian)"
      ],
      "execution_count": null,
      "outputs": [
        {
          "output_type": "stream",
          "name": "stdout",
          "text": [
            "Lagrangian: \n"
          ]
        },
        {
          "output_type": "display_data",
          "data": {
            "text/plain": [
              "<IPython.core.display.HTML object>"
            ],
            "text/html": [
              "<script src='https://cdnjs.cloudflare.com/ajax/libs/mathjax/3.1.1/latest.js?config=TeX-AMS_HTML'></script>"
            ]
          },
          "metadata": {}
        },
        {
          "output_type": "display_data",
          "data": {
            "text/plain": [
              "                                                       2                  2\n",
              "                      2          2          ⎛d        ⎞        ⎛d        ⎞ \n",
              "- 0.4⋅(-x₁(t) + x₂(t))  - 0.25⋅x₁ (t) + 0.5⋅⎜──(x₁(t))⎟  + 1.0⋅⎜──(x₂(t))⎟ \n",
              "                                            ⎝dt       ⎠        ⎝dt       ⎠ "
            ],
            "text/latex": "$\\displaystyle - 0.4 \\left(- x_{1}{\\left(t \\right)} + x_{2}{\\left(t \\right)}\\right)^{2} - 0.25 x_{1}^{2}{\\left(t \\right)} + 0.5 \\left(\\frac{d}{d t} x_{1}{\\left(t \\right)}\\right)^{2} + 1.0 \\left(\\frac{d}{d t} x_{2}{\\left(t \\right)}\\right)^{2}$"
          },
          "metadata": {}
        }
      ]
    },
    {
      "cell_type": "markdown",
      "metadata": {
        "id": "Xuw8SIBPaXSS"
      },
      "source": [
        "## Problem 3 (10pts)\n",
        "\n",
        "Based on your solution for Problem 2, compute the Euler-Lagrange equations for this system.\n",
        "\n",
        "*Hint 1: In this problem, the system has two configuration variables. Thus, when taking the derivative of the Lagrangian with respect to the system state vector, the derivative is also a vector (sometimes also called the Jacobian of the Lagrangian with respect to system states). Below is an example of several ways to compute the derivative with respect to a vector in SymPy.*"
      ]
    },
    {
      "cell_type": "code",
      "source": [
        "print('\\033[1mDifferent ways of taking the derivative of the Lagrangian with respect ot the system state vector (q)')\n",
        "t = sym.symbols('t')\n",
        "\n",
        "# define two system states as functions\n",
        "x1 = sym.Function(r'x_1')(t)\n",
        "x2 = sym.Function(r'x_2')(t)\n",
        "# wrap system states into one vector (in SymPy would be Matrix)\n",
        "q = sym.Matrix([x1, x2])\n",
        "# define an expression in terms of x1(t) and x2(t)\n",
        "J = sym.sin(x1**2) + sym.cos(x2)**2\n",
        "print('\\n\\033[1mExample expression ')\n",
        "display(J)\n",
        "\n",
        "# compute derivative wrt a vector, method 1\n",
        "# wrap the expression into a SymPy Matrix\n",
        "J_mat = sym.Matrix([J])\n",
        "# SymPy Matrix has built-in method for Jacobian\n",
        "dJdq = J_mat.jacobian(q)\n",
        "print('\\n\\033[1mMethod: built-in Jacobian derivative')\n",
        "display(dJdq) # note that dJdq is 1-by-2 vector, not 2-by-1 as q\n",
        "\n",
        "# compute derivative wrt a vector, method 2: do it one by one\n",
        "dJdx1 = J.diff(x1)\n",
        "dJdx2 = J.diff(x2)\n",
        "dJdq = sym.Matrix([dJdx1, dJdx2]).T # transpose so dimension can match\n",
        "print('\\n\\033[1mMethod: one-by-one')\n",
        "display(dJdq)\n",
        "\n",
        "# compute derivative wrt a vector, method 3: do it one by one ... but in a \"fancy\" way\n",
        "dJdq = []\n",
        "for x in q:\n",
        "    dJdq.append(J.diff(x))\n",
        "dJdq = sym.Matrix([dJdq])\n",
        "print('\\n\\033[1mMethod: for loop')\n",
        "display(dJdq)"
      ],
      "metadata": {
        "colab": {
          "base_uri": "https://localhost:8080/",
          "height": 265
        },
        "id": "e7BOfEj4T7u-",
        "outputId": "cfc81cbc-af0d-411b-fd8a-656383e5d2bb"
      },
      "execution_count": null,
      "outputs": [
        {
          "output_type": "stream",
          "name": "stdout",
          "text": [
            "\u001b[1mDifferent ways of taking the derivative of the Lagrangian with respect ot the system state vector (q)\n",
            "\n",
            "\u001b[1mExample expression \n"
          ]
        },
        {
          "output_type": "display_data",
          "data": {
            "text/plain": [
              "<IPython.core.display.HTML object>"
            ],
            "text/html": [
              "<script src='https://cdnjs.cloudflare.com/ajax/libs/mathjax/3.1.1/latest.js?config=TeX-AMS_HTML'></script>"
            ]
          },
          "metadata": {}
        },
        {
          "output_type": "display_data",
          "data": {
            "text/plain": [
              "   ⎛  2   ⎞      2       \n",
              "sin⎝x₁ (t)⎠ + cos (x₂(t))"
            ],
            "text/latex": "$\\displaystyle \\sin{\\left(x_{1}^{2}{\\left(t \\right)} \\right)} + \\cos^{2}{\\left(x_{2}{\\left(t \\right)} \\right)}$"
          },
          "metadata": {}
        },
        {
          "output_type": "stream",
          "name": "stdout",
          "text": [
            "\n",
            "\u001b[1mMethod: built-in Jacobian derivative\n"
          ]
        },
        {
          "output_type": "display_data",
          "data": {
            "text/plain": [
              "<IPython.core.display.HTML object>"
            ],
            "text/html": [
              "<script src='https://cdnjs.cloudflare.com/ajax/libs/mathjax/3.1.1/latest.js?config=TeX-AMS_HTML'></script>"
            ]
          },
          "metadata": {}
        },
        {
          "output_type": "display_data",
          "data": {
            "text/plain": [
              "⎡           ⎛  2   ⎞                          ⎤\n",
              "⎣2⋅x₁(t)⋅cos⎝x₁ (t)⎠  -2⋅sin(x₂(t))⋅cos(x₂(t))⎦"
            ],
            "text/latex": "$\\displaystyle \\left[\\begin{matrix}2 x_{1}{\\left(t \\right)} \\cos{\\left(x_{1}^{2}{\\left(t \\right)} \\right)} & - 2 \\sin{\\left(x_{2}{\\left(t \\right)} \\right)} \\cos{\\left(x_{2}{\\left(t \\right)} \\right)}\\end{matrix}\\right]$"
          },
          "metadata": {}
        },
        {
          "output_type": "stream",
          "name": "stdout",
          "text": [
            "\n",
            "\u001b[1mMethod: one-by-one\n"
          ]
        },
        {
          "output_type": "display_data",
          "data": {
            "text/plain": [
              "<IPython.core.display.HTML object>"
            ],
            "text/html": [
              "<script src='https://cdnjs.cloudflare.com/ajax/libs/mathjax/3.1.1/latest.js?config=TeX-AMS_HTML'></script>"
            ]
          },
          "metadata": {}
        },
        {
          "output_type": "display_data",
          "data": {
            "text/plain": [
              "⎡           ⎛  2   ⎞                          ⎤\n",
              "⎣2⋅x₁(t)⋅cos⎝x₁ (t)⎠  -2⋅sin(x₂(t))⋅cos(x₂(t))⎦"
            ],
            "text/latex": "$\\displaystyle \\left[\\begin{matrix}2 x_{1}{\\left(t \\right)} \\cos{\\left(x_{1}^{2}{\\left(t \\right)} \\right)} & - 2 \\sin{\\left(x_{2}{\\left(t \\right)} \\right)} \\cos{\\left(x_{2}{\\left(t \\right)} \\right)}\\end{matrix}\\right]$"
          },
          "metadata": {}
        },
        {
          "output_type": "stream",
          "name": "stdout",
          "text": [
            "\n",
            "\u001b[1mMethod: for loop\n"
          ]
        },
        {
          "output_type": "display_data",
          "data": {
            "text/plain": [
              "<IPython.core.display.HTML object>"
            ],
            "text/html": [
              "<script src='https://cdnjs.cloudflare.com/ajax/libs/mathjax/3.1.1/latest.js?config=TeX-AMS_HTML'></script>"
            ]
          },
          "metadata": {}
        },
        {
          "output_type": "display_data",
          "data": {
            "text/plain": [
              "⎡           ⎛  2   ⎞                          ⎤\n",
              "⎣2⋅x₁(t)⋅cos⎝x₁ (t)⎠  -2⋅sin(x₂(t))⋅cos(x₂(t))⎦"
            ],
            "text/latex": "$\\displaystyle \\left[\\begin{matrix}2 x_{1}{\\left(t \\right)} \\cos{\\left(x_{1}^{2}{\\left(t \\right)} \\right)} & - 2 \\sin{\\left(x_{2}{\\left(t \\right)} \\right)} \\cos{\\left(x_{2}{\\left(t \\right)} \\right)}\\end{matrix}\\right]$"
          },
          "metadata": {}
        }
      ]
    },
    {
      "cell_type": "markdown",
      "source": [
        "**Turn in: A copy of the code used to symbolically compute the Euler-Lagrange equations and the code outpute (i.e. the resulting equations).**"
      ],
      "metadata": {
        "id": "_HVwj1s8T-pw"
      }
    },
    {
      "cell_type": "code",
      "metadata": {
        "id": "o2AafVE6aXSS",
        "colab": {
          "base_uri": "https://localhost:8080/",
          "height": 145
        },
        "outputId": "de77303e-a171-4118-b3a6-1ea30dc1f0ce"
      },
      "source": [
        "t = sym.symbols('t')\n",
        "\n",
        "# define position x1 as function of t\n",
        "x1 = sym.Function(r'x_1')(t)\n",
        "# define velocity as derivative of position wrt t\n",
        "x1dot = x1.diff(t)\n",
        "# define acceleration as derivative of velocity wrt t\n",
        "x1ddot = x1dot.diff(t)\n",
        "\n",
        "# define position x2 as function of t\n",
        "x2 = sym.Function(r'x_2')(t)\n",
        "# define velocity as derivative of position wrt t\n",
        "x2dot = x2.diff(t)\n",
        "# define acceleration as derivative of velocity wrt t\n",
        "x2ddot = x2dot.diff(t)\n",
        "\n",
        "#put in matrix form\n",
        "#I don't actually end up using q, as I use method 2 below\n",
        "q = sym.Matrix([x1, x2])\n",
        "qdot = sym.Matrix([x1dot, x2dot])\n",
        "\n",
        "#write out and display lagrangian\n",
        "lagrangian = .5*1*x1dot**2+.5*2*x2dot**2-.5*.5*x1**2-.5*.8*(x2-x1)**2\n",
        "print('Lagrangian: ')\n",
        "display(lagrangian)\n",
        "\n",
        "#method 2\n",
        "Ldx1 = lagrangian.diff(x1)\n",
        "Ldx1dot = lagrangian.diff(x1dot)\n",
        "ELx1 = Ldx1 - Ldx1dot.diff(t)\n",
        "\n",
        "Ldx2 = lagrangian.diff(x2)\n",
        "Ldx2dot = lagrangian.diff(x2dot)\n",
        "ELx2 = Ldx2 - Ldx2dot.diff(t)\n",
        "#display\n",
        "ELeqs = sym.Matrix([ELx1, ELx2]).T\n",
        "print('Euler-Lagrange Equations:')\n",
        "display(ELeqs)\n",
        "print('Both equations are equivalent to 0')"
      ],
      "execution_count": null,
      "outputs": [
        {
          "output_type": "stream",
          "name": "stdout",
          "text": [
            "Lagrangian: \n"
          ]
        },
        {
          "output_type": "display_data",
          "data": {
            "text/plain": [
              "<IPython.core.display.HTML object>"
            ],
            "text/html": [
              "<script src='https://cdnjs.cloudflare.com/ajax/libs/mathjax/3.1.1/latest.js?config=TeX-AMS_HTML'></script>"
            ]
          },
          "metadata": {}
        },
        {
          "output_type": "display_data",
          "data": {
            "text/plain": [
              "                                                       2                  2\n",
              "                      2          2          ⎛d        ⎞        ⎛d        ⎞ \n",
              "- 0.4⋅(-x₁(t) + x₂(t))  - 0.25⋅x₁ (t) + 0.5⋅⎜──(x₁(t))⎟  + 1.0⋅⎜──(x₂(t))⎟ \n",
              "                                            ⎝dt       ⎠        ⎝dt       ⎠ "
            ],
            "text/latex": "$\\displaystyle - 0.4 \\left(- x_{1}{\\left(t \\right)} + x_{2}{\\left(t \\right)}\\right)^{2} - 0.25 x_{1}^{2}{\\left(t \\right)} + 0.5 \\left(\\frac{d}{d t} x_{1}{\\left(t \\right)}\\right)^{2} + 1.0 \\left(\\frac{d}{d t} x_{2}{\\left(t \\right)}\\right)^{2}$"
          },
          "metadata": {}
        },
        {
          "output_type": "stream",
          "name": "stdout",
          "text": [
            "Euler-Lagrange Equations:\n"
          ]
        },
        {
          "output_type": "display_data",
          "data": {
            "text/plain": [
              "<IPython.core.display.HTML object>"
            ],
            "text/html": [
              "<script src='https://cdnjs.cloudflare.com/ajax/libs/mathjax/3.1.1/latest.js?config=TeX-AMS_HTML'></script>"
            ]
          },
          "metadata": {}
        },
        {
          "output_type": "display_data",
          "data": {
            "text/plain": [
              "⎡                           2                                       2       ⎤\n",
              "⎢                          d                                       d        ⎥\n",
              "⎢-1.3⋅x₁(t) + 0.8⋅x₂(t) - ───(x₁(t))  0.8⋅x₁(t) - 0.8⋅x₂(t) - 2.0⋅───(x₂(t))⎥\n",
              "⎢                           2                                       2       ⎥\n",
              "⎣                         dt                                      dt        ⎦"
            ],
            "text/latex": "$\\displaystyle \\left[\\begin{matrix}- 1.3 x_{1}{\\left(t \\right)} + 0.8 x_{2}{\\left(t \\right)} - 1.0 \\frac{d^{2}}{d t^{2}} x_{1}{\\left(t \\right)} & 0.8 x_{1}{\\left(t \\right)} - 0.8 x_{2}{\\left(t \\right)} - 2.0 \\frac{d^{2}}{d t^{2}} x_{2}{\\left(t \\right)}\\end{matrix}\\right]$"
          },
          "metadata": {}
        },
        {
          "output_type": "stream",
          "name": "stdout",
          "text": [
            "Both equations are equivalent to 0\n"
          ]
        }
      ]
    },
    {
      "cell_type": "markdown",
      "metadata": {
        "id": "72Jg3xWJaXSw"
      },
      "source": [
        "## Problem 4 (15pts)\n",
        "\n",
        "Based on your Euler-Lagrange equations from Problem 3, use Python's SymPy package to solve the equations for the accelerations of the two blocks $\\ddot{x}_1, \\ddot{x}_2$, in terms of position $x_1, x_2$, and velocity $\\dot{x}_1, \\dot{x}_2$. Compare your answer to Problem 1 to see if they match with each other and comment if this is not the case.\n",
        "\n",
        "*Hint 1: Since you need to solve a set of multiple equations symbolically in SymPy, it's recommended to wrap both sides of the equations into SymPy's Matrix object. As an example, below is the code solving the following set of equations (feel free to use this code as a starting point).*\n",
        "$$\n",
        "\\begin{aligned}\n",
        "\\left\\{\n",
        "    \\begin{array}{ll}\n",
        "      x^2 + y = 3 \\\\\n",
        "      x + y = 1\n",
        "    \\end{array}\n",
        "\\right.\n",
        "\\end{aligned}\n",
        "$$"
      ]
    },
    {
      "cell_type": "code",
      "metadata": {
        "id": "VES-iwYBaXSz",
        "colab": {
          "base_uri": "https://localhost:8080/",
          "height": 176
        },
        "outputId": "47932a06-f991-4763-f1b2-21a34750f680"
      },
      "source": [
        "x,y = sym.symbols(r'x,y')\n",
        "# define left hand side as a matrix\n",
        "lhs = sym.Matrix([x**2+y, x+y])\n",
        "\n",
        "# define right hand side as a Matrix\n",
        "rhs = sym.Matrix([3, 1])\n",
        "\n",
        "# define the equations\n",
        "eqn = sym.Eq(lhs, rhs)\n",
        "\n",
        "# solve it for both x and y\n",
        "q = sym.Matrix([x, y])\n",
        "soln = sym.solve(eqn, q, dict=True) # this will return the solution \n",
        "                                     # as a Python dictionary\n",
        "for sol in soln:\n",
        "    print('\\n\\033[1mSolution: ')\n",
        "    for v in q:\n",
        "        display(sym.Eq(v, sol[v]))"
      ],
      "execution_count": null,
      "outputs": [
        {
          "output_type": "stream",
          "name": "stdout",
          "text": [
            "\n",
            "\u001b[1mSolution: \n"
          ]
        },
        {
          "output_type": "display_data",
          "data": {
            "text/plain": [
              "<IPython.core.display.HTML object>"
            ],
            "text/html": [
              "<script src='https://cdnjs.cloudflare.com/ajax/libs/mathjax/3.1.1/latest.js?config=TeX-AMS_HTML'></script>"
            ]
          },
          "metadata": {}
        },
        {
          "output_type": "display_data",
          "data": {
            "text/plain": [
              "x = -1"
            ],
            "text/latex": "$\\displaystyle x = -1$"
          },
          "metadata": {}
        },
        {
          "output_type": "display_data",
          "data": {
            "text/plain": [
              "<IPython.core.display.HTML object>"
            ],
            "text/html": [
              "<script src='https://cdnjs.cloudflare.com/ajax/libs/mathjax/3.1.1/latest.js?config=TeX-AMS_HTML'></script>"
            ]
          },
          "metadata": {}
        },
        {
          "output_type": "display_data",
          "data": {
            "text/plain": [
              "y = 2"
            ],
            "text/latex": "$\\displaystyle y = 2$"
          },
          "metadata": {}
        },
        {
          "output_type": "stream",
          "name": "stdout",
          "text": [
            "\n",
            "\u001b[1mSolution: \n"
          ]
        },
        {
          "output_type": "display_data",
          "data": {
            "text/plain": [
              "<IPython.core.display.HTML object>"
            ],
            "text/html": [
              "<script src='https://cdnjs.cloudflare.com/ajax/libs/mathjax/3.1.1/latest.js?config=TeX-AMS_HTML'></script>"
            ]
          },
          "metadata": {}
        },
        {
          "output_type": "display_data",
          "data": {
            "text/plain": [
              "x = 2"
            ],
            "text/latex": "$\\displaystyle x = 2$"
          },
          "metadata": {}
        },
        {
          "output_type": "display_data",
          "data": {
            "text/plain": [
              "<IPython.core.display.HTML object>"
            ],
            "text/html": [
              "<script src='https://cdnjs.cloudflare.com/ajax/libs/mathjax/3.1.1/latest.js?config=TeX-AMS_HTML'></script>"
            ]
          },
          "metadata": {}
        },
        {
          "output_type": "display_data",
          "data": {
            "text/plain": [
              "y = -1"
            ],
            "text/latex": "$\\displaystyle y = -1$"
          },
          "metadata": {}
        }
      ]
    },
    {
      "cell_type": "markdown",
      "metadata": {
        "id": "XpXlPCKGaXS1"
      },
      "source": [
        "**Turn in: A copy of the code you used to solve the Euler-Lagrange equations and the code output (i.e. the resulting symbolic solutions).**"
      ]
    },
    {
      "cell_type": "code",
      "metadata": {
        "id": "T-A50gSgaXS2",
        "colab": {
          "base_uri": "https://localhost:8080/",
          "height": 305
        },
        "outputId": "4bbc3a0e-9d09-4ac2-a3ae-842adda459f6"
      },
      "source": [
        "import sympy as sym\n",
        "\n",
        "#copy and pasting code here from previous problems\n",
        "t = sym.symbols('t')\n",
        "x1 = sym.Function(r'x_1')(t)\n",
        "x1dot = x1.diff(t)\n",
        "x1ddot = x1dot.diff(t)\n",
        "x2 = sym.Function(r'x_2')(t)\n",
        "x2dot = x2.diff(t)\n",
        "x2ddot = x2dot.diff(t)\n",
        "q = sym.Matrix([x1, x2])\n",
        "qdot = sym.Matrix([x1dot, x2dot])\n",
        "lagrangian = .5*1*x1dot**2+.5*2*x2dot**2-.5*.5*x1**2-.5*.8*(x2-x1)**2\n",
        "print('Lagrangian: ')\n",
        "display(lagrangian)\n",
        "Ldx1 = lagrangian.diff(x1)\n",
        "Ldx1dot = lagrangian.diff(x1dot)\n",
        "ELx1 = Ldx1 - Ldx1dot.diff(t)\n",
        "Ldx2 = lagrangian.diff(x2)\n",
        "Ldx2dot = lagrangian.diff(x2dot)\n",
        "ELx2 = Ldx2 - Ldx2dot.diff(t)\n",
        "ELeqs = sym.Matrix([ELx1, ELx2]).T\n",
        "print('Euler-Lagrange Equations:')\n",
        "display(ELeqs)\n",
        "print('Both equations are equivalent to 0')\n",
        "\n",
        "#start of new code\n",
        "\n",
        "# define left hand side as a matrix\n",
        "lhs = sym.Matrix([ELx1, ELx2])\n",
        "\n",
        "# define right hand side as a Matrix\n",
        "rhs = sym.Matrix([0, 0])\n",
        "\n",
        "# define the equations\n",
        "eqn = sym.Eq(lhs, rhs)\n",
        "\n",
        "display(eqn)\n",
        "\n",
        "# solve it for both x1ddot and x2ddot\n",
        "q = sym.Matrix([x1ddot, x2ddot])\n",
        "soln = sym.solve(eqn, q, dict=True) # this will return the solution \n",
        "                                     # as a Python dictionary\n",
        "for sol in soln:\n",
        "    print('\\n\\033[1mSolution: ')\n",
        "    for v in q:\n",
        "        display(sym.Eq(v, sol[v]))\n",
        "\n",
        "#If you plug in the test values from problem 1 into the resulting equation, you get\n",
        "#x1ddot = 1.1, and x2ddot = -.8 -- the same as in problem 1."
      ],
      "execution_count": null,
      "outputs": [
        {
          "output_type": "stream",
          "name": "stdout",
          "text": [
            "Lagrangian: \n"
          ]
        },
        {
          "output_type": "display_data",
          "data": {
            "text/plain": [
              "<IPython.core.display.HTML object>"
            ],
            "text/html": [
              "<script src='https://cdnjs.cloudflare.com/ajax/libs/mathjax/3.1.1/latest.js?config=TeX-AMS_HTML'></script>"
            ]
          },
          "metadata": {}
        },
        {
          "output_type": "display_data",
          "data": {
            "text/plain": [
              "                                                       2                  2\n",
              "                      2          2          ⎛d        ⎞        ⎛d        ⎞ \n",
              "- 0.4⋅(-x₁(t) + x₂(t))  - 0.25⋅x₁ (t) + 0.5⋅⎜──(x₁(t))⎟  + 1.0⋅⎜──(x₂(t))⎟ \n",
              "                                            ⎝dt       ⎠        ⎝dt       ⎠ "
            ],
            "text/latex": "$\\displaystyle - 0.4 \\left(- x_{1}{\\left(t \\right)} + x_{2}{\\left(t \\right)}\\right)^{2} - 0.25 x_{1}^{2}{\\left(t \\right)} + 0.5 \\left(\\frac{d}{d t} x_{1}{\\left(t \\right)}\\right)^{2} + 1.0 \\left(\\frac{d}{d t} x_{2}{\\left(t \\right)}\\right)^{2}$"
          },
          "metadata": {}
        },
        {
          "output_type": "stream",
          "name": "stdout",
          "text": [
            "Euler-Lagrange Equations:\n"
          ]
        },
        {
          "output_type": "display_data",
          "data": {
            "text/plain": [
              "<IPython.core.display.HTML object>"
            ],
            "text/html": [
              "<script src='https://cdnjs.cloudflare.com/ajax/libs/mathjax/3.1.1/latest.js?config=TeX-AMS_HTML'></script>"
            ]
          },
          "metadata": {}
        },
        {
          "output_type": "display_data",
          "data": {
            "text/plain": [
              "⎡                           2                                       2       ⎤\n",
              "⎢                          d                                       d        ⎥\n",
              "⎢-1.3⋅x₁(t) + 0.8⋅x₂(t) - ───(x₁(t))  0.8⋅x₁(t) - 0.8⋅x₂(t) - 2.0⋅───(x₂(t))⎥\n",
              "⎢                           2                                       2       ⎥\n",
              "⎣                         dt                                      dt        ⎦"
            ],
            "text/latex": "$\\displaystyle \\left[\\begin{matrix}- 1.3 x_{1}{\\left(t \\right)} + 0.8 x_{2}{\\left(t \\right)} - 1.0 \\frac{d^{2}}{d t^{2}} x_{1}{\\left(t \\right)} & 0.8 x_{1}{\\left(t \\right)} - 0.8 x_{2}{\\left(t \\right)} - 2.0 \\frac{d^{2}}{d t^{2}} x_{2}{\\left(t \\right)}\\end{matrix}\\right]$"
          },
          "metadata": {}
        },
        {
          "output_type": "stream",
          "name": "stdout",
          "text": [
            "Both equations are equivalent to 0\n"
          ]
        },
        {
          "output_type": "display_data",
          "data": {
            "text/plain": [
              "<IPython.core.display.HTML object>"
            ],
            "text/html": [
              "<script src='https://cdnjs.cloudflare.com/ajax/libs/mathjax/3.1.1/latest.js?config=TeX-AMS_HTML'></script>"
            ]
          },
          "metadata": {}
        },
        {
          "output_type": "display_data",
          "data": {
            "text/plain": [
              "⎡                            2         ⎤      \n",
              "⎢                           d          ⎥      \n",
              "⎢ -1.3⋅x₁(t) + 0.8⋅x₂(t) - ───(x₁(t))  ⎥      \n",
              "⎢                            2         ⎥      \n",
              "⎢                          dt          ⎥   ⎡0⎤\n",
              "⎢                                      ⎥ = ⎢ ⎥\n",
              "⎢                              2       ⎥   ⎣0⎦\n",
              "⎢                             d        ⎥      \n",
              "⎢0.8⋅x₁(t) - 0.8⋅x₂(t) - 2.0⋅───(x₂(t))⎥      \n",
              "⎢                              2       ⎥      \n",
              "⎣                            dt        ⎦      "
            ],
            "text/latex": "$\\displaystyle \\left[\\begin{matrix}- 1.3 x_{1}{\\left(t \\right)} + 0.8 x_{2}{\\left(t \\right)} - 1.0 \\frac{d^{2}}{d t^{2}} x_{1}{\\left(t \\right)}\\\\0.8 x_{1}{\\left(t \\right)} - 0.8 x_{2}{\\left(t \\right)} - 2.0 \\frac{d^{2}}{d t^{2}} x_{2}{\\left(t \\right)}\\end{matrix}\\right] = \\left[\\begin{matrix}0\\\\0\\end{matrix}\\right]$"
          },
          "metadata": {}
        },
        {
          "output_type": "stream",
          "name": "stdout",
          "text": [
            "\n",
            "\u001b[1mSolution: \n"
          ]
        },
        {
          "output_type": "display_data",
          "data": {
            "text/plain": [
              "<IPython.core.display.HTML object>"
            ],
            "text/html": [
              "<script src='https://cdnjs.cloudflare.com/ajax/libs/mathjax/3.1.1/latest.js?config=TeX-AMS_HTML'></script>"
            ]
          },
          "metadata": {}
        },
        {
          "output_type": "display_data",
          "data": {
            "text/plain": [
              "  2                                \n",
              " d                                 \n",
              "───(x₁(t)) = -1.3⋅x₁(t) + 0.8⋅x₂(t)\n",
              "  2                                \n",
              "dt                                 "
            ],
            "text/latex": "$\\displaystyle \\frac{d^{2}}{d t^{2}} x_{1}{\\left(t \\right)} = - 1.3 x_{1}{\\left(t \\right)} + 0.8 x_{2}{\\left(t \\right)}$"
          },
          "metadata": {}
        },
        {
          "output_type": "display_data",
          "data": {
            "text/plain": [
              "<IPython.core.display.HTML object>"
            ],
            "text/html": [
              "<script src='https://cdnjs.cloudflare.com/ajax/libs/mathjax/3.1.1/latest.js?config=TeX-AMS_HTML'></script>"
            ]
          },
          "metadata": {}
        },
        {
          "output_type": "display_data",
          "data": {
            "text/plain": [
              "  2                               \n",
              " d                                \n",
              "───(x₂(t)) = 0.4⋅x₁(t) - 0.4⋅x₂(t)\n",
              "  2                               \n",
              "dt                                "
            ],
            "text/latex": "$\\displaystyle \\frac{d^{2}}{d t^{2}} x_{2}{\\left(t \\right)} = 0.4 x_{1}{\\left(t \\right)} - 0.4 x_{2}{\\left(t \\right)}$"
          },
          "metadata": {}
        }
      ]
    },
    {
      "cell_type": "markdown",
      "metadata": {
        "id": "rmzz-xtCaXS4"
      },
      "source": [
        "## Problem 5 (10pts)"
      ]
    },
    {
      "cell_type": "code",
      "source": [
        "from IPython.core.display import HTML\n",
        "display(HTML(\"<table><tr><td><img src='https://raw.githubusercontent.com/MuchenSun/ME314pngs/master/dyninvpend.png' width=500' height='350'></table>\"))"
      ],
      "metadata": {
        "colab": {
          "base_uri": "https://localhost:8080/",
          "height": 377
        },
        "id": "q3lbk_JjUG7w",
        "outputId": "94e4dcbe-03b6-46dc-a348-3979fd0a5e3c"
      },
      "execution_count": null,
      "outputs": [
        {
          "output_type": "display_data",
          "data": {
            "text/plain": [
              "<IPython.core.display.HTML object>"
            ],
            "text/html": [
              "<table><tr><td><img src='https://raw.githubusercontent.com/MuchenSun/ME314pngs/master/dyninvpend.png' width=500' height='350'></table>"
            ]
          },
          "metadata": {}
        }
      ]
    },
    {
      "cell_type": "markdown",
      "source": [
        "\n",
        "You are given the unforced inverted cart-pendulum as shown below. The pendulum is in gravity and can swing freely (the cart will not interfere with pendulum's motion). The cart can move freely in the horizontal direction. Take $x$ and $\\theta$ as the system configuration variables and compute the Lagrangian of the system using Python's SymPy package. Provide symoblic solution of the Lagrangian with $m$, $R$, and $M$ as symbols instead of given constants.\n",
        "\n",
        "*Hint 1: Assume that the positive direction for the rotation of the pendulum $\\dot{\\theta}$ is clockwise. Likewise, the positive direction for the translation of the cart is to the right.*\n",
        "\n",
        "*Hint 2: You will need to define $m$, $R$, and $M$ as SymPy's symbols.*\n",
        "\n",
        "*Hint 3: Note that the pendulum is attached to the cart! In order to compute the kinetic energy of the pendulum, the velocity of the cart needs to be considered. One suggestion is to compute the velocity of the pendulum in a different coordinate system (other than Cartesian with $x$ and $y$ coordinates).*"
      ],
      "metadata": {
        "id": "W3og15vlYNcs"
      }
    },
    {
      "cell_type": "markdown",
      "metadata": {
        "id": "UBG_nJa0aXS7"
      },
      "source": [
        "**Turn in: A copy of the code used to symbolically compute Lagrangian and the code output (i.e. the computed expression of the Lagrangian).**"
      ]
    },
    {
      "cell_type": "code",
      "metadata": {
        "id": "OYaAr10EaXS7",
        "colab": {
          "base_uri": "https://localhost:8080/",
          "height": 86
        },
        "outputId": "61d46ff8-55fb-4e11-ae44-68f209e3935b"
      },
      "source": [
        "#define symbols and functions\n",
        "t = sym.symbols('t')\n",
        "m = sym.symbols('m')\n",
        "R = sym.symbols('R')\n",
        "M = sym.symbols('M')\n",
        "g = sym.symbols('g') #I also added a symbol for gravity\n",
        "\n",
        "x = sym.Function(r'x')(t)\n",
        "xdot = x.diff(t)\n",
        "xddot = xdot.diff(t)\n",
        "\n",
        "theta = sym.Function(r'\\theta')(t)\n",
        "thetadot = theta.diff(t)\n",
        "thetaddot = thetadot.diff(t)\n",
        "\n",
        "#L = KE - V\n",
        "#V pendulum = mgR(cos(theta))\n",
        "#V cart = 0, resting on the ground\n",
        "#KE cart = .5*M*v^2 = .5*M*xdot^2\n",
        "#KE pendulum = .5*m*v^2 = .5*m*(xdot^2 + ydot^2)\n",
        "# = .5*m*(D(R*sin(theta)+x)^2+D(R*cos(theta))^2)\n",
        "# = .5*m*((R*cos(theta)*thetadot+xdot)^2 + (-R*sin(theta)*thetadot)^2)\n",
        "#L = KE - V\n",
        "\n",
        "#write out and display lagrangian\n",
        "lagrangian = .5*M*xdot**2 + .5*m*((R*sym.cos(theta)*thetadot+xdot)**2 + (-R*sym.sin(theta)*thetadot)**2) - m*g*R*sym.cos(theta)\n",
        "print('Lagrangian: ')\n",
        "display(lagrangian)"
      ],
      "execution_count": null,
      "outputs": [
        {
          "output_type": "stream",
          "name": "stdout",
          "text": [
            "Lagrangian: \n"
          ]
        },
        {
          "output_type": "display_data",
          "data": {
            "text/plain": [
              "<IPython.core.display.HTML object>"
            ],
            "text/html": [
              "<script src='https://cdnjs.cloudflare.com/ajax/libs/mathjax/3.1.1/latest.js?config=TeX-AMS_HTML'></script>"
            ]
          },
          "metadata": {}
        },
        {
          "output_type": "display_data",
          "data": {
            "text/plain": [
              "                2                                ⎛                            \n",
              "      ⎛d       ⎞                                 ⎜ 2    2            ⎛d       \n",
              "0.5⋅M⋅⎜──(x(t))⎟  - R⋅g⋅m⋅cos(\\theta(t)) + 0.5⋅m⋅⎜R ⋅sin (\\theta(t))⋅⎜──(\\thet\n",
              "      ⎝dt      ⎠                                 ⎝                   ⎝dt      \n",
              "\n",
              "      2                                              2⎞\n",
              "     ⎞    ⎛                 d               d       ⎞ ⎟\n",
              "a(t))⎟  + ⎜R⋅cos(\\theta(t))⋅──(\\theta(t)) + ──(x(t))⎟ ⎟\n",
              "     ⎠    ⎝                 dt              dt      ⎠ ⎠"
            ],
            "text/latex": "$\\displaystyle 0.5 M \\left(\\frac{d}{d t} x{\\left(t \\right)}\\right)^{2} - R g m \\cos{\\left(\\theta{\\left(t \\right)} \\right)} + 0.5 m \\left(R^{2} \\sin^{2}{\\left(\\theta{\\left(t \\right)} \\right)} \\left(\\frac{d}{d t} \\theta{\\left(t \\right)}\\right)^{2} + \\left(R \\cos{\\left(\\theta{\\left(t \\right)} \\right)} \\frac{d}{d t} \\theta{\\left(t \\right)} + \\frac{d}{d t} x{\\left(t \\right)}\\right)^{2}\\right)$"
          },
          "metadata": {}
        }
      ]
    },
    {
      "cell_type": "markdown",
      "source": [
        "## Problem 6 (15pts)\n",
        "\n",
        "Based on your solution in Problem 5, compute the Euler-Lagrange equations for this inverted cart-pendulun system using Python's SymPy package.\n",
        "\n",
        "**Turn in: A copy of the code used to symbolically compute Euler-Lagrange equations  and the code output (i.e. the computed expression of the Lagrangian).**"
      ],
      "metadata": {
        "id": "TZOarGN7UOa8"
      }
    },
    {
      "cell_type": "code",
      "source": [
        "#define symbols and functions\n",
        "t = sym.symbols('t')\n",
        "m = sym.symbols('m')\n",
        "R = sym.symbols('R')\n",
        "M = sym.symbols('M')\n",
        "g = sym.symbols('g') #I also added a symbol for gravity\n",
        "\n",
        "x = sym.Function(r'x')(t)\n",
        "xdot = x.diff(t)\n",
        "xddot = xdot.diff(t)\n",
        "\n",
        "theta = sym.Function(r'\\theta')(t)\n",
        "thetadot = theta.diff(t)\n",
        "thetaddot = thetadot.diff(t)\n",
        "\n",
        "#write out and display lagrangian\n",
        "lagrangian = .5*M*xdot**2 + .5*m*((R*sym.cos(theta)*thetadot+xdot)**2 + (-R*sym.sin(theta)*thetadot)**2) - m*g*R*sym.cos(theta)\n",
        "print('Lagrangian: ')\n",
        "display(lagrangian)\n",
        "\n",
        "#method 2\n",
        "Ldx = lagrangian.diff(x)\n",
        "Ldxdot = lagrangian.diff(xdot)\n",
        "ELx = Ldx - Ldxdot.diff(t)\n",
        "\n",
        "Ldtheta = lagrangian.diff(theta)\n",
        "Ldthetadot = lagrangian.diff(thetadot)\n",
        "ELtheta = Ldtheta - Ldthetadot.diff(t)\n",
        "#display\n",
        "ELeqs = sym.Matrix([ELx, ELtheta]).T\n",
        "print('Euler-Lagrange Equations:')\n",
        "display(ELeqs)\n",
        "print('Both equations are equivalent to 0')"
      ],
      "metadata": {
        "id": "i_1qHTNWUNq1",
        "colab": {
          "base_uri": "https://localhost:8080/",
          "height": 172
        },
        "outputId": "5f090f7f-6b4f-4a8d-d11c-4dce71ca3771"
      },
      "execution_count": null,
      "outputs": [
        {
          "output_type": "stream",
          "name": "stdout",
          "text": [
            "Lagrangian: \n"
          ]
        },
        {
          "output_type": "display_data",
          "data": {
            "text/plain": [
              "<IPython.core.display.HTML object>"
            ],
            "text/html": [
              "<script src='https://cdnjs.cloudflare.com/ajax/libs/mathjax/3.1.1/latest.js?config=TeX-AMS_HTML'></script>"
            ]
          },
          "metadata": {}
        },
        {
          "output_type": "display_data",
          "data": {
            "text/plain": [
              "                2                                ⎛                            \n",
              "      ⎛d       ⎞                                 ⎜ 2    2            ⎛d       \n",
              "0.5⋅M⋅⎜──(x(t))⎟  - R⋅g⋅m⋅cos(\\theta(t)) + 0.5⋅m⋅⎜R ⋅sin (\\theta(t))⋅⎜──(\\thet\n",
              "      ⎝dt      ⎠                                 ⎝                   ⎝dt      \n",
              "\n",
              "      2                                              2⎞\n",
              "     ⎞    ⎛                 d               d       ⎞ ⎟\n",
              "a(t))⎟  + ⎜R⋅cos(\\theta(t))⋅──(\\theta(t)) + ──(x(t))⎟ ⎟\n",
              "     ⎠    ⎝                 dt              dt      ⎠ ⎠"
            ],
            "text/latex": "$\\displaystyle 0.5 M \\left(\\frac{d}{d t} x{\\left(t \\right)}\\right)^{2} - R g m \\cos{\\left(\\theta{\\left(t \\right)} \\right)} + 0.5 m \\left(R^{2} \\sin^{2}{\\left(\\theta{\\left(t \\right)} \\right)} \\left(\\frac{d}{d t} \\theta{\\left(t \\right)}\\right)^{2} + \\left(R \\cos{\\left(\\theta{\\left(t \\right)} \\right)} \\frac{d}{d t} \\theta{\\left(t \\right)} + \\frac{d}{d t} x{\\left(t \\right)}\\right)^{2}\\right)$"
          },
          "metadata": {}
        },
        {
          "output_type": "stream",
          "name": "stdout",
          "text": [
            "Euler-Lagrange Equations:\n"
          ]
        },
        {
          "output_type": "display_data",
          "data": {
            "text/plain": [
              "<IPython.core.display.HTML object>"
            ],
            "text/html": [
              "<script src='https://cdnjs.cloudflare.com/ajax/libs/mathjax/3.1.1/latest.js?config=TeX-AMS_HTML'></script>"
            ]
          },
          "metadata": {}
        },
        {
          "output_type": "display_data",
          "data": {
            "text/plain": [
              "⎡      2               ⎛                                    2                 \n",
              "⎢     d                ⎜                     ⎛d            ⎞                  \n",
              "⎢- M⋅───(x(t)) - 0.5⋅m⋅⎜- 2⋅R⋅sin(\\theta(t))⋅⎜──(\\theta(t))⎟  + 2⋅R⋅cos(\\theta\n",
              "⎢      2               ⎜                     ⎝dt           ⎠                  \n",
              "⎣    dt                ⎝                                                      \n",
              "\n",
              "       2                  2      ⎞                               ⎛            \n",
              "      d                  d       ⎟                               ⎜   2        \n",
              "(t))⋅───(\\theta(t)) + 2⋅───(x(t))⎟  R⋅g⋅m⋅sin(\\theta(t)) + 0.5⋅m⋅⎜2⋅R ⋅sin(\\th\n",
              "       2                  2      ⎟                               ⎝            \n",
              "     dt                 dt       ⎠                                            \n",
              "\n",
              "                                      2                                       \n",
              "                       ⎛d            ⎞        ⎛                 d             \n",
              "eta(t))⋅cos(\\theta(t))⋅⎜──(\\theta(t))⎟  - 2⋅R⋅⎜R⋅cos(\\theta(t))⋅──(\\theta(t)) \n",
              "                       ⎝dt           ⎠        ⎝                 dt            \n",
              "                                                                              \n",
              "\n",
              "                                        ⎞         ⎛                       2   \n",
              "  d       ⎞                d            ⎟         ⎜   2    2             d    \n",
              "+ ──(x(t))⎟⋅sin(\\theta(t))⋅──(\\theta(t))⎟ - 0.5⋅m⋅⎜2⋅R ⋅sin (\\theta(t))⋅───(\\t\n",
              "  dt      ⎠                dt           ⎠         ⎜                       2   \n",
              "                                                  ⎝                     dt    \n",
              "\n",
              "                                                             2                \n",
              "              2                               ⎛d            ⎞        ⎛        \n",
              "heta(t)) + 4⋅R ⋅sin(\\theta(t))⋅cos(\\theta(t))⋅⎜──(\\theta(t))⎟  - 2⋅R⋅⎜R⋅cos(\\t\n",
              "                                              ⎝dt           ⎠        ⎝        \n",
              "                                                                              \n",
              "\n",
              "                                                                      ⎛       \n",
              "         d               d       ⎞                d                   ⎜       \n",
              "heta(t))⋅──(\\theta(t)) + ──(x(t))⎟⋅sin(\\theta(t))⋅──(\\theta(t)) + 2⋅R⋅⎜- R⋅sin\n",
              "         dt              dt      ⎠                dt                  ⎜       \n",
              "                                                                      ⎝       \n",
              "\n",
              "                           2                      2                2      ⎞   \n",
              "            ⎛d            ⎞                      d                d       ⎟   \n",
              "(\\theta(t))⋅⎜──(\\theta(t))⎟  + R⋅cos(\\theta(t))⋅───(\\theta(t)) + ───(x(t))⎟⋅co\n",
              "            ⎝dt           ⎠                       2                2      ⎟   \n",
              "                                                dt               dt       ⎠   \n",
              "\n",
              "            ⎞⎤\n",
              "            ⎟⎥\n",
              "s(\\theta(t))⎟⎥\n",
              "            ⎟⎥\n",
              "            ⎠⎦"
            ],
            "text/latex": "$\\displaystyle \\left[\\begin{matrix}- 1.0 M \\frac{d^{2}}{d t^{2}} x{\\left(t \\right)} - 0.5 m \\left(- 2 R \\sin{\\left(\\theta{\\left(t \\right)} \\right)} \\left(\\frac{d}{d t} \\theta{\\left(t \\right)}\\right)^{2} + 2 R \\cos{\\left(\\theta{\\left(t \\right)} \\right)} \\frac{d^{2}}{d t^{2}} \\theta{\\left(t \\right)} + 2 \\frac{d^{2}}{d t^{2}} x{\\left(t \\right)}\\right) & R g m \\sin{\\left(\\theta{\\left(t \\right)} \\right)} + 0.5 m \\left(2 R^{2} \\sin{\\left(\\theta{\\left(t \\right)} \\right)} \\cos{\\left(\\theta{\\left(t \\right)} \\right)} \\left(\\frac{d}{d t} \\theta{\\left(t \\right)}\\right)^{2} - 2 R \\left(R \\cos{\\left(\\theta{\\left(t \\right)} \\right)} \\frac{d}{d t} \\theta{\\left(t \\right)} + \\frac{d}{d t} x{\\left(t \\right)}\\right) \\sin{\\left(\\theta{\\left(t \\right)} \\right)} \\frac{d}{d t} \\theta{\\left(t \\right)}\\right) - 0.5 m \\left(2 R^{2} \\sin^{2}{\\left(\\theta{\\left(t \\right)} \\right)} \\frac{d^{2}}{d t^{2}} \\theta{\\left(t \\right)} + 4 R^{2} \\sin{\\left(\\theta{\\left(t \\right)} \\right)} \\cos{\\left(\\theta{\\left(t \\right)} \\right)} \\left(\\frac{d}{d t} \\theta{\\left(t \\right)}\\right)^{2} - 2 R \\left(R \\cos{\\left(\\theta{\\left(t \\right)} \\right)} \\frac{d}{d t} \\theta{\\left(t \\right)} + \\frac{d}{d t} x{\\left(t \\right)}\\right) \\sin{\\left(\\theta{\\left(t \\right)} \\right)} \\frac{d}{d t} \\theta{\\left(t \\right)} + 2 R \\left(- R \\sin{\\left(\\theta{\\left(t \\right)} \\right)} \\left(\\frac{d}{d t} \\theta{\\left(t \\right)}\\right)^{2} + R \\cos{\\left(\\theta{\\left(t \\right)} \\right)} \\frac{d^{2}}{d t^{2}} \\theta{\\left(t \\right)} + \\frac{d^{2}}{d t^{2}} x{\\left(t \\right)}\\right) \\cos{\\left(\\theta{\\left(t \\right)} \\right)}\\right)\\end{matrix}\\right]$"
          },
          "metadata": {}
        },
        {
          "output_type": "stream",
          "name": "stdout",
          "text": [
            "Both equations are equivalent to 0\n"
          ]
        }
      ]
    },
    {
      "cell_type": "markdown",
      "source": [
        "## Problem 7 (15pts)\n",
        "\n",
        "Find symbolic expressions of $\\ddot{x}$ and $\\ddot{\\theta}$ from the Euler-Lagrange equations in Problem 6 using SymPy's **`solve()`** method (NOTE: the expressions should be in terms of $x$, $\\theta$, $\\dot{x}$ and $\\dot{\\theta}$ only). Convert these results to numerical functions using SymPy's **`lambdify()`** method by substituting $M, m, R, g$ symbols with $M=2, m=1, R=1, g=9.8$ values. Test your numerical functions of $\\ddot{x}$ and $\\ddot{\\theta}$ by evaluating them given $x=0, \\theta=0.1, \\dot{x}=0, \\dot{\\theta}=0$ as function inputs.\n",
        "\n",
        "**Turn in: A copy of the code used to symbolically solve and numerically evaluate the solutions of Euler-Lagrange equations (i.e. $\\ddot{x}$ and $\\ddot{\\theta}$). Include the code output, consisting of symbolic expression of $\\ddot{x}$ and $\\ddot{\\theta}$, as well as your test results for the numerical evaluations.**"
      ],
      "metadata": {
        "id": "JvEeknCXUQMF"
      }
    },
    {
      "cell_type": "code",
      "metadata": {
        "id": "nVpc5FEGaXTC",
        "colab": {
          "base_uri": "https://localhost:8080/",
          "height": 709
        },
        "outputId": "d0d30393-6632-4636-af64-acf0e0f08aea"
      },
      "source": [
        "import sympy as sym\n",
        "\n",
        "#copy and pasting code here from previous problems\n",
        "#define symbols and functions\n",
        "t = sym.symbols('t')\n",
        "m = sym.symbols('m')\n",
        "R = sym.symbols('R')\n",
        "M = sym.symbols('M')\n",
        "g = sym.symbols('g') #I also added a symbol for gravity\n",
        "\n",
        "x = sym.Function(r'x')(t)\n",
        "xdot = x.diff(t)\n",
        "xddot = xdot.diff(t)\n",
        "\n",
        "theta = sym.Function(r'\\theta')(t)\n",
        "thetadot = theta.diff(t)\n",
        "thetaddot = thetadot.diff(t)\n",
        "\n",
        "#write out and display lagrangian\n",
        "lagrangian = .5*M*xdot**2 + .5*m*((R*sym.cos(theta)*thetadot+xdot)**2 + (-R*sym.sin(theta)*thetadot)**2) - m*g*R*sym.cos(theta)\n",
        "print('Lagrangian: ')\n",
        "display(lagrangian)\n",
        "\n",
        "#method 2\n",
        "Ldx = lagrangian.diff(x)\n",
        "Ldxdot = lagrangian.diff(xdot)\n",
        "ELx = Ldx - Ldxdot.diff(t)\n",
        "\n",
        "Ldtheta = lagrangian.diff(theta)\n",
        "Ldthetadot = lagrangian.diff(thetadot)\n",
        "ELtheta = Ldtheta - Ldthetadot.diff(t)\n",
        "#display\n",
        "ELeqs = sym.Matrix([ELx, ELtheta]).T\n",
        "print('Euler-Lagrange Equations:')\n",
        "display(ELeqs)\n",
        "print('Both equations are equivalent to 0')\n",
        "\n",
        "#start of new code\n",
        "\n",
        "# define left hand side as a matrix\n",
        "lhs = sym.Matrix([ELx, ELtheta])\n",
        "\n",
        "# define right hand side as a Matrix\n",
        "rhs = sym.Matrix([0, 0])\n",
        "\n",
        "# define the equations\n",
        "eqn = sym.Eq(lhs, rhs)\n",
        "\n",
        "display(eqn)\n",
        "\n",
        "# solve it for both xddot and thetaddot\n",
        "q = sym.Matrix([xddot, thetaddot])\n",
        "soln = sym.solve(eqn, q, dict=True) # this will return the solution \n",
        "                                     # as a Python dictionary\n",
        "for sol in soln:\n",
        "    print('\\n\\033[1mSolution: ')\n",
        "    for v in q:\n",
        "        display(sym.Eq(v, sol[v]))\n",
        "        if v == xddot:\n",
        "          expr1 = sol[v]\n",
        "        if v == thetaddot:\n",
        "          expr2 = sol[v]\n",
        "#solve numerically\n",
        "new_expr1 = expr1.subs([(R, 1), (M, 2), (m, 1), (g, 9.8)])\n",
        "new_expr2 = expr2.subs([(R, 1), (M, 2), (m, 1), (g, 9.8)])\n",
        "\n",
        "print(\"With values for R, M, m, g: \")\n",
        "print(\"xddot =\")\n",
        "display(new_expr1)\n",
        "print(\"thetaddot =\")\n",
        "display(new_expr2)\n",
        "\n",
        "# method 1: the numerical function will take variables one by one\n",
        "func1 = sym.lambdify([x, theta, xdot, thetadot], new_expr1)\n",
        "print('\\n\\033[1mTest at x=0, theta=.1, xdot=0, thetadot=0: xddot = \\033[0m{:.2f}'.format(func1(0, .1, 0, 0)))\n",
        "\n",
        "func2 = sym.lambdify([x, theta, xdot, thetadot], new_expr2)\n",
        "print('\\n\\033[1mTest at x=0, theta=.1, xdot=0, thetadot=0: thetaddot = \\033[0m{:.2f}'.format(func2(0, .1, 0, 0)))"
      ],
      "execution_count": null,
      "outputs": [
        {
          "output_type": "stream",
          "name": "stdout",
          "text": [
            "Lagrangian: \n"
          ]
        },
        {
          "output_type": "display_data",
          "data": {
            "text/plain": [
              "<IPython.core.display.HTML object>"
            ],
            "text/html": [
              "<script src='https://cdnjs.cloudflare.com/ajax/libs/mathjax/3.1.1/latest.js?config=TeX-AMS_HTML'></script>"
            ]
          },
          "metadata": {}
        },
        {
          "output_type": "display_data",
          "data": {
            "text/plain": [
              "                2                                ⎛                            \n",
              "      ⎛d       ⎞                                 ⎜ 2    2            ⎛d       \n",
              "0.5⋅M⋅⎜──(x(t))⎟  - R⋅g⋅m⋅cos(\\theta(t)) + 0.5⋅m⋅⎜R ⋅sin (\\theta(t))⋅⎜──(\\thet\n",
              "      ⎝dt      ⎠                                 ⎝                   ⎝dt      \n",
              "\n",
              "      2                                              2⎞\n",
              "     ⎞    ⎛                 d               d       ⎞ ⎟\n",
              "a(t))⎟  + ⎜R⋅cos(\\theta(t))⋅──(\\theta(t)) + ──(x(t))⎟ ⎟\n",
              "     ⎠    ⎝                 dt              dt      ⎠ ⎠"
            ],
            "text/latex": "$\\displaystyle 0.5 M \\left(\\frac{d}{d t} x{\\left(t \\right)}\\right)^{2} - R g m \\cos{\\left(\\theta{\\left(t \\right)} \\right)} + 0.5 m \\left(R^{2} \\sin^{2}{\\left(\\theta{\\left(t \\right)} \\right)} \\left(\\frac{d}{d t} \\theta{\\left(t \\right)}\\right)^{2} + \\left(R \\cos{\\left(\\theta{\\left(t \\right)} \\right)} \\frac{d}{d t} \\theta{\\left(t \\right)} + \\frac{d}{d t} x{\\left(t \\right)}\\right)^{2}\\right)$"
          },
          "metadata": {}
        },
        {
          "output_type": "stream",
          "name": "stdout",
          "text": [
            "Euler-Lagrange Equations:\n"
          ]
        },
        {
          "output_type": "display_data",
          "data": {
            "text/plain": [
              "<IPython.core.display.HTML object>"
            ],
            "text/html": [
              "<script src='https://cdnjs.cloudflare.com/ajax/libs/mathjax/3.1.1/latest.js?config=TeX-AMS_HTML'></script>"
            ]
          },
          "metadata": {}
        },
        {
          "output_type": "display_data",
          "data": {
            "text/plain": [
              "⎡      2               ⎛                                    2                 \n",
              "⎢     d                ⎜                     ⎛d            ⎞                  \n",
              "⎢- M⋅───(x(t)) - 0.5⋅m⋅⎜- 2⋅R⋅sin(\\theta(t))⋅⎜──(\\theta(t))⎟  + 2⋅R⋅cos(\\theta\n",
              "⎢      2               ⎜                     ⎝dt           ⎠                  \n",
              "⎣    dt                ⎝                                                      \n",
              "\n",
              "       2                  2      ⎞                               ⎛            \n",
              "      d                  d       ⎟                               ⎜   2        \n",
              "(t))⋅───(\\theta(t)) + 2⋅───(x(t))⎟  R⋅g⋅m⋅sin(\\theta(t)) + 0.5⋅m⋅⎜2⋅R ⋅sin(\\th\n",
              "       2                  2      ⎟                               ⎝            \n",
              "     dt                 dt       ⎠                                            \n",
              "\n",
              "                                      2                                       \n",
              "                       ⎛d            ⎞        ⎛                 d             \n",
              "eta(t))⋅cos(\\theta(t))⋅⎜──(\\theta(t))⎟  - 2⋅R⋅⎜R⋅cos(\\theta(t))⋅──(\\theta(t)) \n",
              "                       ⎝dt           ⎠        ⎝                 dt            \n",
              "                                                                              \n",
              "\n",
              "                                        ⎞         ⎛                       2   \n",
              "  d       ⎞                d            ⎟         ⎜   2    2             d    \n",
              "+ ──(x(t))⎟⋅sin(\\theta(t))⋅──(\\theta(t))⎟ - 0.5⋅m⋅⎜2⋅R ⋅sin (\\theta(t))⋅───(\\t\n",
              "  dt      ⎠                dt           ⎠         ⎜                       2   \n",
              "                                                  ⎝                     dt    \n",
              "\n",
              "                                                             2                \n",
              "              2                               ⎛d            ⎞        ⎛        \n",
              "heta(t)) + 4⋅R ⋅sin(\\theta(t))⋅cos(\\theta(t))⋅⎜──(\\theta(t))⎟  - 2⋅R⋅⎜R⋅cos(\\t\n",
              "                                              ⎝dt           ⎠        ⎝        \n",
              "                                                                              \n",
              "\n",
              "                                                                      ⎛       \n",
              "         d               d       ⎞                d                   ⎜       \n",
              "heta(t))⋅──(\\theta(t)) + ──(x(t))⎟⋅sin(\\theta(t))⋅──(\\theta(t)) + 2⋅R⋅⎜- R⋅sin\n",
              "         dt              dt      ⎠                dt                  ⎜       \n",
              "                                                                      ⎝       \n",
              "\n",
              "                           2                      2                2      ⎞   \n",
              "            ⎛d            ⎞                      d                d       ⎟   \n",
              "(\\theta(t))⋅⎜──(\\theta(t))⎟  + R⋅cos(\\theta(t))⋅───(\\theta(t)) + ───(x(t))⎟⋅co\n",
              "            ⎝dt           ⎠                       2                2      ⎟   \n",
              "                                                dt               dt       ⎠   \n",
              "\n",
              "            ⎞⎤\n",
              "            ⎟⎥\n",
              "s(\\theta(t))⎟⎥\n",
              "            ⎟⎥\n",
              "            ⎠⎦"
            ],
            "text/latex": "$\\displaystyle \\left[\\begin{matrix}- 1.0 M \\frac{d^{2}}{d t^{2}} x{\\left(t \\right)} - 0.5 m \\left(- 2 R \\sin{\\left(\\theta{\\left(t \\right)} \\right)} \\left(\\frac{d}{d t} \\theta{\\left(t \\right)}\\right)^{2} + 2 R \\cos{\\left(\\theta{\\left(t \\right)} \\right)} \\frac{d^{2}}{d t^{2}} \\theta{\\left(t \\right)} + 2 \\frac{d^{2}}{d t^{2}} x{\\left(t \\right)}\\right) & R g m \\sin{\\left(\\theta{\\left(t \\right)} \\right)} + 0.5 m \\left(2 R^{2} \\sin{\\left(\\theta{\\left(t \\right)} \\right)} \\cos{\\left(\\theta{\\left(t \\right)} \\right)} \\left(\\frac{d}{d t} \\theta{\\left(t \\right)}\\right)^{2} - 2 R \\left(R \\cos{\\left(\\theta{\\left(t \\right)} \\right)} \\frac{d}{d t} \\theta{\\left(t \\right)} + \\frac{d}{d t} x{\\left(t \\right)}\\right) \\sin{\\left(\\theta{\\left(t \\right)} \\right)} \\frac{d}{d t} \\theta{\\left(t \\right)}\\right) - 0.5 m \\left(2 R^{2} \\sin^{2}{\\left(\\theta{\\left(t \\right)} \\right)} \\frac{d^{2}}{d t^{2}} \\theta{\\left(t \\right)} + 4 R^{2} \\sin{\\left(\\theta{\\left(t \\right)} \\right)} \\cos{\\left(\\theta{\\left(t \\right)} \\right)} \\left(\\frac{d}{d t} \\theta{\\left(t \\right)}\\right)^{2} - 2 R \\left(R \\cos{\\left(\\theta{\\left(t \\right)} \\right)} \\frac{d}{d t} \\theta{\\left(t \\right)} + \\frac{d}{d t} x{\\left(t \\right)}\\right) \\sin{\\left(\\theta{\\left(t \\right)} \\right)} \\frac{d}{d t} \\theta{\\left(t \\right)} + 2 R \\left(- R \\sin{\\left(\\theta{\\left(t \\right)} \\right)} \\left(\\frac{d}{d t} \\theta{\\left(t \\right)}\\right)^{2} + R \\cos{\\left(\\theta{\\left(t \\right)} \\right)} \\frac{d^{2}}{d t^{2}} \\theta{\\left(t \\right)} + \\frac{d^{2}}{d t^{2}} x{\\left(t \\right)}\\right) \\cos{\\left(\\theta{\\left(t \\right)} \\right)}\\right)\\end{matrix}\\right]$"
          },
          "metadata": {}
        },
        {
          "output_type": "stream",
          "name": "stdout",
          "text": [
            "Both equations are equivalent to 0\n"
          ]
        },
        {
          "output_type": "display_data",
          "data": {
            "text/plain": [
              "<IPython.core.display.HTML object>"
            ],
            "text/html": [
              "<script src='https://cdnjs.cloudflare.com/ajax/libs/mathjax/3.1.1/latest.js?config=TeX-AMS_HTML'></script>"
            ]
          },
          "metadata": {}
        },
        {
          "output_type": "display_data",
          "data": {
            "text/plain": [
              "⎡                                                                             \n",
              "⎢                                                                             \n",
              "⎢                                                                             \n",
              "⎢                                                                             \n",
              "⎢                                                                             \n",
              "⎢                                                                             \n",
              "⎢                             ⎛                                               \n",
              "⎢                             ⎜   2                               ⎛d          \n",
              "⎢R⋅g⋅m⋅sin(\\theta(t)) + 0.5⋅m⋅⎜2⋅R ⋅sin(\\theta(t))⋅cos(\\theta(t))⋅⎜──(\\theta(t\n",
              "⎢                             ⎝                                   ⎝dt         \n",
              "⎣                                                                             \n",
              "\n",
              "                                                                              \n",
              "                                                                              \n",
              "                                                                              \n",
              "                                                                              \n",
              "                                                                              \n",
              "                                                                              \n",
              "   2                                                                          \n",
              "  ⎞        ⎛                 d               d       ⎞                d       \n",
              "))⎟  - 2⋅R⋅⎜R⋅cos(\\theta(t))⋅──(\\theta(t)) + ──(x(t))⎟⋅sin(\\theta(t))⋅──(\\thet\n",
              "  ⎠        ⎝                 dt              dt      ⎠                dt      \n",
              "                                                                              \n",
              "\n",
              "                  2               ⎛                                    2      \n",
              "                 d                ⎜                     ⎛d            ⎞       \n",
              "            - M⋅───(x(t)) - 0.5⋅m⋅⎜- 2⋅R⋅sin(\\theta(t))⋅⎜──(\\theta(t))⎟  + 2⋅R\n",
              "                  2               ⎜                     ⎝dt           ⎠       \n",
              "                dt                ⎝                                           \n",
              "                                                                              \n",
              "     ⎞         ⎛                       2                                      \n",
              "     ⎟         ⎜   2    2             d                  2                    \n",
              "a(t))⎟ - 0.5⋅m⋅⎜2⋅R ⋅sin (\\theta(t))⋅───(\\theta(t)) + 4⋅R ⋅sin(\\theta(t))⋅cos(\n",
              "     ⎠         ⎜                       2                                      \n",
              "               ⎝                     dt                                       \n",
              "\n",
              "                  2                  2      ⎞                                 \n",
              "                 d                  d       ⎟                                 \n",
              "⋅cos(\\theta(t))⋅───(\\theta(t)) + 2⋅───(x(t))⎟                                 \n",
              "                  2                  2      ⎟                                 \n",
              "                dt                 dt       ⎠                                 \n",
              "                                                                              \n",
              "                          2                                                   \n",
              "           ⎛d            ⎞        ⎛                 d               d       ⎞ \n",
              "\\theta(t))⋅⎜──(\\theta(t))⎟  - 2⋅R⋅⎜R⋅cos(\\theta(t))⋅──(\\theta(t)) + ──(x(t))⎟⋅\n",
              "           ⎝dt           ⎠        ⎝                 dt              dt      ⎠ \n",
              "                                                                              \n",
              "\n",
              "                                                                              \n",
              "                                                                              \n",
              "                                                                              \n",
              "                                                                              \n",
              "                                                                              \n",
              "                                                                              \n",
              "                                   ⎛                                  2       \n",
              "               d                   ⎜                   ⎛d            ⎞        \n",
              "sin(\\theta(t))⋅──(\\theta(t)) + 2⋅R⋅⎜- R⋅sin(\\theta(t))⋅⎜──(\\theta(t))⎟  + R⋅co\n",
              "               dt                  ⎜                   ⎝dt           ⎠        \n",
              "                                   ⎝                                          \n",
              "\n",
              "                                                        ⎤      \n",
              "                                                        ⎥      \n",
              "                                                        ⎥      \n",
              "                                                        ⎥      \n",
              "                                                        ⎥   ⎡0⎤\n",
              "                                                        ⎥ = ⎢ ⎥\n",
              "               2                2      ⎞               ⎞⎥   ⎣0⎦\n",
              "              d                d       ⎟               ⎟⎥      \n",
              "s(\\theta(t))⋅───(\\theta(t)) + ───(x(t))⎟⋅cos(\\theta(t))⎟⎥      \n",
              "               2                2      ⎟               ⎟⎥      \n",
              "             dt               dt       ⎠               ⎠⎦      "
            ],
            "text/latex": "$\\displaystyle \\left[\\begin{matrix}- 1.0 M \\frac{d^{2}}{d t^{2}} x{\\left(t \\right)} - 0.5 m \\left(- 2 R \\sin{\\left(\\theta{\\left(t \\right)} \\right)} \\left(\\frac{d}{d t} \\theta{\\left(t \\right)}\\right)^{2} + 2 R \\cos{\\left(\\theta{\\left(t \\right)} \\right)} \\frac{d^{2}}{d t^{2}} \\theta{\\left(t \\right)} + 2 \\frac{d^{2}}{d t^{2}} x{\\left(t \\right)}\\right)\\\\R g m \\sin{\\left(\\theta{\\left(t \\right)} \\right)} + 0.5 m \\left(2 R^{2} \\sin{\\left(\\theta{\\left(t \\right)} \\right)} \\cos{\\left(\\theta{\\left(t \\right)} \\right)} \\left(\\frac{d}{d t} \\theta{\\left(t \\right)}\\right)^{2} - 2 R \\left(R \\cos{\\left(\\theta{\\left(t \\right)} \\right)} \\frac{d}{d t} \\theta{\\left(t \\right)} + \\frac{d}{d t} x{\\left(t \\right)}\\right) \\sin{\\left(\\theta{\\left(t \\right)} \\right)} \\frac{d}{d t} \\theta{\\left(t \\right)}\\right) - 0.5 m \\left(2 R^{2} \\sin^{2}{\\left(\\theta{\\left(t \\right)} \\right)} \\frac{d^{2}}{d t^{2}} \\theta{\\left(t \\right)} + 4 R^{2} \\sin{\\left(\\theta{\\left(t \\right)} \\right)} \\cos{\\left(\\theta{\\left(t \\right)} \\right)} \\left(\\frac{d}{d t} \\theta{\\left(t \\right)}\\right)^{2} - 2 R \\left(R \\cos{\\left(\\theta{\\left(t \\right)} \\right)} \\frac{d}{d t} \\theta{\\left(t \\right)} + \\frac{d}{d t} x{\\left(t \\right)}\\right) \\sin{\\left(\\theta{\\left(t \\right)} \\right)} \\frac{d}{d t} \\theta{\\left(t \\right)} + 2 R \\left(- R \\sin{\\left(\\theta{\\left(t \\right)} \\right)} \\left(\\frac{d}{d t} \\theta{\\left(t \\right)}\\right)^{2} + R \\cos{\\left(\\theta{\\left(t \\right)} \\right)} \\frac{d^{2}}{d t^{2}} \\theta{\\left(t \\right)} + \\frac{d^{2}}{d t^{2}} x{\\left(t \\right)}\\right) \\cos{\\left(\\theta{\\left(t \\right)} \\right)}\\right)\\end{matrix}\\right] = \\left[\\begin{matrix}0\\\\0\\end{matrix}\\right]$"
          },
          "metadata": {}
        },
        {
          "output_type": "stream",
          "name": "stdout",
          "text": [
            "\n",
            "\u001b[1mSolution: \n"
          ]
        },
        {
          "output_type": "display_data",
          "data": {
            "text/plain": [
              "<IPython.core.display.HTML object>"
            ],
            "text/html": [
              "<script src='https://cdnjs.cloudflare.com/ajax/libs/mathjax/3.1.1/latest.js?config=TeX-AMS_HTML'></script>"
            ]
          },
          "metadata": {}
        },
        {
          "output_type": "display_data",
          "data": {
            "text/plain": [
              "                                                          2                   \n",
              "                              3            ⎛d            ⎞                    \n",
              "  2                    R⋅m⋅sin (\\theta(t))⋅⎜──(\\theta(t))⎟                 R⋅m\n",
              " d                                         ⎝dt           ⎠                    \n",
              "───(x(t)) = ───────────────────────────────────────────────────────── + ──────\n",
              "  2              2                   2                   2                   2\n",
              "dt          M⋅sin (\\theta(t)) + M⋅cos (\\theta(t)) + m⋅sin (\\theta(t))   M⋅sin \n",
              "\n",
              "                                               2                              \n",
              "                   2            ⎛d            ⎞                               \n",
              "⋅sin(\\theta(t))⋅cos (\\theta(t))⋅⎜──(\\theta(t))⎟                               \n",
              "                                ⎝dt           ⎠                   g⋅m⋅sin(\\the\n",
              "─────────────────────────────────────────────────── - ────────────────────────\n",
              "                   2                   2                   2                  \n",
              "(\\theta(t)) + M⋅cos (\\theta(t)) + m⋅sin (\\theta(t))   M⋅sin (\\theta(t)) + M⋅co\n",
              "\n",
              "                                 \n",
              "                                 \n",
              "                                 \n",
              "ta(t))⋅cos(\\theta(t))            \n",
              "─────────────────────────────────\n",
              " 2                   2           \n",
              "s (\\theta(t)) + m⋅sin (\\theta(t))"
            ],
            "text/latex": "$\\displaystyle \\frac{d^{2}}{d t^{2}} x{\\left(t \\right)} = \\frac{R m \\sin^{3}{\\left(\\theta{\\left(t \\right)} \\right)} \\left(\\frac{d}{d t} \\theta{\\left(t \\right)}\\right)^{2}}{M \\sin^{2}{\\left(\\theta{\\left(t \\right)} \\right)} + M \\cos^{2}{\\left(\\theta{\\left(t \\right)} \\right)} + m \\sin^{2}{\\left(\\theta{\\left(t \\right)} \\right)}} + \\frac{R m \\sin{\\left(\\theta{\\left(t \\right)} \\right)} \\cos^{2}{\\left(\\theta{\\left(t \\right)} \\right)} \\left(\\frac{d}{d t} \\theta{\\left(t \\right)}\\right)^{2}}{M \\sin^{2}{\\left(\\theta{\\left(t \\right)} \\right)} + M \\cos^{2}{\\left(\\theta{\\left(t \\right)} \\right)} + m \\sin^{2}{\\left(\\theta{\\left(t \\right)} \\right)}} - \\frac{g m \\sin{\\left(\\theta{\\left(t \\right)} \\right)} \\cos{\\left(\\theta{\\left(t \\right)} \\right)}}{M \\sin^{2}{\\left(\\theta{\\left(t \\right)} \\right)} + M \\cos^{2}{\\left(\\theta{\\left(t \\right)} \\right)} + m \\sin^{2}{\\left(\\theta{\\left(t \\right)} \\right)}}$"
          },
          "metadata": {}
        },
        {
          "output_type": "display_data",
          "data": {
            "text/plain": [
              "<IPython.core.display.HTML object>"
            ],
            "text/html": [
              "<script src='https://cdnjs.cloudflare.com/ajax/libs/mathjax/3.1.1/latest.js?config=TeX-AMS_HTML'></script>"
            ]
          },
          "metadata": {}
        },
        {
          "output_type": "display_data",
          "data": {
            "text/plain": [
              "                                                                              \n",
              "                                                                              \n",
              "  2                                                                           \n",
              " d                                      M⋅g⋅sin(\\theta(t))                    \n",
              "───(\\theta(t)) = ─────────────────────────────────────────────────────────────\n",
              "  2                     2                     2                     2         \n",
              "dt               M⋅R⋅sin (\\theta(t)) + M⋅R⋅cos (\\theta(t)) + R⋅m⋅sin (\\theta(t\n",
              "\n",
              "                                                             2                \n",
              "                                              ⎛d            ⎞                 \n",
              "            R⋅m⋅sin(\\theta(t))⋅cos(\\theta(t))⋅⎜──(\\theta(t))⎟                 \n",
              "                                              ⎝dt           ⎠                 \n",
              "── - ─────────────────────────────────────────────────────────────── + ───────\n",
              "            2                     2                     2                     \n",
              "))   M⋅R⋅sin (\\theta(t)) + M⋅R⋅cos (\\theta(t)) + R⋅m⋅sin (\\theta(t))   M⋅R⋅sin\n",
              "\n",
              "                                                        \n",
              "                                                        \n",
              "                                                        \n",
              "                g⋅m⋅sin(\\theta(t))                      \n",
              "────────────────────────────────────────────────────────\n",
              "2                     2                     2           \n",
              " (\\theta(t)) + M⋅R⋅cos (\\theta(t)) + R⋅m⋅sin (\\theta(t))"
            ],
            "text/latex": "$\\displaystyle \\frac{d^{2}}{d t^{2}} \\theta{\\left(t \\right)} = \\frac{M g \\sin{\\left(\\theta{\\left(t \\right)} \\right)}}{M R \\sin^{2}{\\left(\\theta{\\left(t \\right)} \\right)} + M R \\cos^{2}{\\left(\\theta{\\left(t \\right)} \\right)} + R m \\sin^{2}{\\left(\\theta{\\left(t \\right)} \\right)}} - \\frac{R m \\sin{\\left(\\theta{\\left(t \\right)} \\right)} \\cos{\\left(\\theta{\\left(t \\right)} \\right)} \\left(\\frac{d}{d t} \\theta{\\left(t \\right)}\\right)^{2}}{M R \\sin^{2}{\\left(\\theta{\\left(t \\right)} \\right)} + M R \\cos^{2}{\\left(\\theta{\\left(t \\right)} \\right)} + R m \\sin^{2}{\\left(\\theta{\\left(t \\right)} \\right)}} + \\frac{g m \\sin{\\left(\\theta{\\left(t \\right)} \\right)}}{M R \\sin^{2}{\\left(\\theta{\\left(t \\right)} \\right)} + M R \\cos^{2}{\\left(\\theta{\\left(t \\right)} \\right)} + R m \\sin^{2}{\\left(\\theta{\\left(t \\right)} \\right)}}$"
          },
          "metadata": {}
        },
        {
          "output_type": "stream",
          "name": "stdout",
          "text": [
            "With values for R, M, m, g: \n",
            "xddot =\n"
          ]
        },
        {
          "output_type": "display_data",
          "data": {
            "text/plain": [
              "<IPython.core.display.HTML object>"
            ],
            "text/html": [
              "<script src='https://cdnjs.cloudflare.com/ajax/libs/mathjax/3.1.1/latest.js?config=TeX-AMS_HTML'></script>"
            ]
          },
          "metadata": {}
        },
        {
          "output_type": "display_data",
          "data": {
            "text/plain": [
              "                                  2                                           \n",
              "      3            ⎛d            ⎞                        2            ⎛d     \n",
              "   sin (\\theta(t))⋅⎜──(\\theta(t))⎟      sin(\\theta(t))⋅cos (\\theta(t))⋅⎜──(\\th\n",
              "                   ⎝dt           ⎠                                     ⎝dt    \n",
              "───────────────────────────────────── + ──────────────────────────────────────\n",
              "     2                   2                        2                   2       \n",
              "3⋅sin (\\theta(t)) + 2⋅cos (\\theta(t))        3⋅sin (\\theta(t)) + 2⋅cos (\\theta\n",
              "\n",
              "        2                                        \n",
              "       ⎞                                         \n",
              "eta(t))⎟                                         \n",
              "       ⎠      9.8⋅sin(\\theta(t))⋅cos(\\theta(t))  \n",
              "───────── - ─────────────────────────────────────\n",
              "                 2                   2           \n",
              "(t))        3⋅sin (\\theta(t)) + 2⋅cos (\\theta(t))"
            ],
            "text/latex": "$\\displaystyle \\frac{\\sin^{3}{\\left(\\theta{\\left(t \\right)} \\right)} \\left(\\frac{d}{d t} \\theta{\\left(t \\right)}\\right)^{2}}{3 \\sin^{2}{\\left(\\theta{\\left(t \\right)} \\right)} + 2 \\cos^{2}{\\left(\\theta{\\left(t \\right)} \\right)}} + \\frac{\\sin{\\left(\\theta{\\left(t \\right)} \\right)} \\cos^{2}{\\left(\\theta{\\left(t \\right)} \\right)} \\left(\\frac{d}{d t} \\theta{\\left(t \\right)}\\right)^{2}}{3 \\sin^{2}{\\left(\\theta{\\left(t \\right)} \\right)} + 2 \\cos^{2}{\\left(\\theta{\\left(t \\right)} \\right)}} - \\frac{9.8 \\sin{\\left(\\theta{\\left(t \\right)} \\right)} \\cos{\\left(\\theta{\\left(t \\right)} \\right)}}{3 \\sin^{2}{\\left(\\theta{\\left(t \\right)} \\right)} + 2 \\cos^{2}{\\left(\\theta{\\left(t \\right)} \\right)}}$"
          },
          "metadata": {}
        },
        {
          "output_type": "stream",
          "name": "stdout",
          "text": [
            "thetaddot =\n"
          ]
        },
        {
          "output_type": "display_data",
          "data": {
            "text/plain": [
              "<IPython.core.display.HTML object>"
            ],
            "text/html": [
              "<script src='https://cdnjs.cloudflare.com/ajax/libs/mathjax/3.1.1/latest.js?config=TeX-AMS_HTML'></script>"
            ]
          },
          "metadata": {}
        },
        {
          "output_type": "display_data",
          "data": {
            "text/plain": [
              "                                               2                              \n",
              "                                ⎛d            ⎞                               \n",
              "  sin(\\theta(t))⋅cos(\\theta(t))⋅⎜──(\\theta(t))⎟                               \n",
              "                                ⎝dt           ⎠             29.4⋅sin(\\theta(t)\n",
              "- ────────────────────────────────────────────── + ───────────────────────────\n",
              "           2                   2                        2                   2 \n",
              "      3⋅sin (\\theta(t)) + 2⋅cos (\\theta(t))        3⋅sin (\\theta(t)) + 2⋅cos (\n",
              "\n",
              "          \n",
              "          \n",
              "          \n",
              ")         \n",
              "──────────\n",
              "          \n",
              "\\theta(t))"
            ],
            "text/latex": "$\\displaystyle - \\frac{\\sin{\\left(\\theta{\\left(t \\right)} \\right)} \\cos{\\left(\\theta{\\left(t \\right)} \\right)} \\left(\\frac{d}{d t} \\theta{\\left(t \\right)}\\right)^{2}}{3 \\sin^{2}{\\left(\\theta{\\left(t \\right)} \\right)} + 2 \\cos^{2}{\\left(\\theta{\\left(t \\right)} \\right)}} + \\frac{29.4 \\sin{\\left(\\theta{\\left(t \\right)} \\right)}}{3 \\sin^{2}{\\left(\\theta{\\left(t \\right)} \\right)} + 2 \\cos^{2}{\\left(\\theta{\\left(t \\right)} \\right)}}$"
          },
          "metadata": {}
        },
        {
          "output_type": "stream",
          "name": "stdout",
          "text": [
            "\n",
            "\u001b[1mTest at x=0, theta=.1, xdot=0, thetadot=0: xddot = \u001b[0m-0.48\n",
            "\n",
            "\u001b[1mTest at x=0, theta=.1, xdot=0, thetadot=0: thetaddot = \u001b[0m1.46\n"
          ]
        }
      ]
    },
    {
      "cell_type": "markdown",
      "source": [
        "## Problem 8 (10pts)\n",
        "\n",
        "Based on your symbolic and numerical solutions for $\\ddot{x}(t)$ and $\\ddot{\\theta}(t)$, which are now functions of $x(t), \\theta(t), \\dot{x}(t)$ and $\\dot{\\theta}(t)$, simulate the system for $t\\in[0,10]$, with initial conditions $x(0)=0, \\theta(0)=0.1, \\dot{x}(0)=0, \\dot{\\theta}(0)=0$ and the numerical integration and simulation functions provided below. Plot the trajectories of $x(t)$ and $\\theta(t)$ versus time.\n",
        "\n",
        "*Hint 1: The numerical simulation function below can only simulate systems with first-order dynamics. This means that the function of dynamics (i.e. $f(xt)$), whose input is fed to the numerical integration and simulation functions, needs to return the first-order time derivative. This might be confusing because our solutions $\\ddot{x}(t)$ and $\\ddot{\\theta}(t)$ are second-order time derivative. The trick here is to extend the system state from $[x(t), \\theta(t)]$ to $[x(t), \\theta(t), \\dot{x}(t), \\dot{\\theta}(t)]$, thus the time derivative of the state vector becomes $[\\dot{x}(t), \\dot{\\theta}(t), \\ddot{x}(t), \\ddot{\\theta}(t)]$. Now, when you write down the system dynamics function, the third and forth elements of input vector $\\dot{x}(t)$ and $\\dot{\\theta}(t)$ can be put into the output vector directly, and we already know the rest two elements of the output vector, from our previous solution of Euler-Lagrange equations. More information can be found in Lecture Note 1 (Background) - Section 1.4 Ordinary Differential Equations. An example is provided below for simulating a particle falling in gravity, where the acceleration $\\ddot{x}(t) = -9.8$.*\n",
        "\n",
        "*Hint 2: You will need to include the numerical evaluations for $\\ddot{x}(t)$ and $\\ddot{\\theta}(t)$ in system dynamics function. You can either use your previous **`lambdify()`** results, or hand code the equations from previous symbolic solutions. We recommend using **`lambdify()`** for practice because later homeworks will require integration of much more complicated equations.*\n",
        "\n",
        "**Turn in: A copy of the code used to simulate the system with the plot of the simulated trajectories.**"
      ],
      "metadata": {
        "id": "HQ2Hl88sUUmF"
      }
    },
    {
      "cell_type": "code",
      "source": [
        "def integrate(f, xt, dt):\n",
        "    \"\"\"\n",
        "    This function takes in an initial condition x(t) and a timestep dt,\n",
        "    as well as a dynamical system f(x) that outputs a vector of the\n",
        "    same dimension as x(t). It outputs a vector x(t+dt) at the future\n",
        "    time step.\n",
        "    \n",
        "    Parameters\n",
        "    ============\n",
        "    dyn: Python function\n",
        "        derivate of the system at a given step x(t), \n",
        "        it can considered as \\dot{x}(t) = func(x(t))\n",
        "    xt: NumPy array\n",
        "        current step x(t)\n",
        "    dt: \n",
        "        step size for integration\n",
        "\n",
        "    Return\n",
        "    ============\n",
        "    new_xt: \n",
        "        value of x(t+dt) integrated from x(t)\n",
        "    \"\"\"\n",
        "    k1 = dt * f(xt)\n",
        "    k2 = dt * f(xt+k1/2.)\n",
        "    k3 = dt * f(xt+k2/2.)\n",
        "    k4 = dt * f(xt+k3)\n",
        "    new_xt = xt + (1/6.) * (k1+2.0*k2+2.0*k3+k4)\n",
        "    return new_xt\n",
        "\n",
        "def simulate(f, x0, tspan, dt, integrate):\n",
        "    \"\"\"\n",
        "    This function takes in an initial condition x0, a timestep dt,\n",
        "    a time span tspan consisting of a list [min_time, max_time],\n",
        "    as well as a dynamical system f(x) that outputs a vector of the\n",
        "    same dimension as x0. It outputs a full trajectory simulated\n",
        "    over the time span of dimensions (xvec_size, time_vec_size).\n",
        "    \n",
        "    Parameters\n",
        "    ============\n",
        "    f: Python function\n",
        "        derivate of the system at a given step x(t), \n",
        "        it can considered as \\dot{x}(t) = func(x(t))\n",
        "    x0: NumPy array\n",
        "        initial conditions\n",
        "    tspan: Python list\n",
        "        tspan = [min_time, max_time], it defines the start and end\n",
        "        time of simulation\n",
        "    dt:\n",
        "        time step for numerical integration\n",
        "    integrate: Python function\n",
        "        numerical integration method used in this simulation\n",
        "\n",
        "    Return\n",
        "    ============\n",
        "    x_traj:\n",
        "        simulated trajectory of x(t) from t=0 to tf\n",
        "    \"\"\"\n",
        "    N = int((max(tspan)-min(tspan))/dt)\n",
        "    x = np.copy(x0)\n",
        "    tvec = np.linspace(min(tspan),max(tspan),N)\n",
        "    xtraj = np.zeros((len(x0),N))\n",
        "    for i in range(N):\n",
        "        xtraj[:,i]=integrate(f,x,dt)\n",
        "        x = np.copy(xtraj[:,i])\n",
        "    return xtraj \n",
        "\n",
        "##############################################\n",
        "# example: simulate a particle falling in gravity\n",
        "def xddot(x, xdot):\n",
        "    \"\"\"\n",
        "    Acceleration of the particle in terms of\n",
        "    position and velocity. Here it's a constant.\n",
        "    \"\"\"\n",
        "    \n",
        "    return -9.8\n",
        "\n",
        "def dyn(s):\n",
        "    \"\"\"\n",
        "    System dynamics function (extended)\n",
        "    \n",
        "    Parameters\n",
        "    ============\n",
        "    s: NumPy array\n",
        "        s = [x, xdot] is the extended system\n",
        "        state vector, includng the position and\n",
        "        the velocity of the particle\n",
        "    \n",
        "    Return\n",
        "    ============\n",
        "    sdot: NumPy array\n",
        "        time derivative of input state vector,\n",
        "        sdot = [xdot, xddot]\n",
        "    \"\"\"\n",
        "    return np.array([s[1], xddot(s[0], s[1])])\n",
        "\n",
        "# define initial state\n",
        "s0 = np.array([10, 0]) # at 10m high with zero velocity\n",
        "# simulat from t=0 to 10, since dt=0.1, the returned trajectory\n",
        "# will have 10/0.1=100 time steps, each time step contains extended\n",
        "# system state vector [x(t), xdot(t)]\n",
        "traj = simulate(dyn, s0, [0, 10], 0.1, integrate) \n",
        "print('\\033[1mShape of traj: \\033[0m', traj.shape)"
      ],
      "metadata": {
        "colab": {
          "base_uri": "https://localhost:8080/"
        },
        "id": "AxammQGfUUCv",
        "outputId": "36fdbc2e-efa9-4d42-cfde-814924c3e262"
      },
      "execution_count": null,
      "outputs": [
        {
          "output_type": "stream",
          "name": "stdout",
          "text": [
            "\u001b[1mShape of traj: \u001b[0m (2, 100)\n"
          ]
        }
      ]
    },
    {
      "cell_type": "code",
      "source": [
        "import sympy as sym\n",
        "import numpy as np\n",
        "import matplotlib.pyplot as plt\n",
        "\n",
        "#provided functions\n",
        "def integrate(f, xt, dt):\n",
        "    k1 = dt * f(xt)\n",
        "    k2 = dt * f(xt+k1/2.)\n",
        "    k3 = dt * f(xt+k2/2.)\n",
        "    k4 = dt * f(xt+k3)\n",
        "    new_xt = xt + (1/6.) * (k1+2.0*k2+2.0*k3+k4)\n",
        "    return new_xt\n",
        "\n",
        "def simulate(f, x0, tspan, dt, integrate):\n",
        "    N = int((max(tspan)-min(tspan))/dt)\n",
        "    x = np.copy(x0)\n",
        "    tvec = np.linspace(min(tspan),max(tspan),N)\n",
        "    xtraj = np.zeros((len(x0),N))\n",
        "    for i in range(N):\n",
        "        xtraj[:,i]=integrate(f,x,dt)\n",
        "        x = np.copy(xtraj[:,i])\n",
        "    return xtraj \n",
        "#copy and pasting this to get lamdified functions\n",
        "t = sym.symbols('t')\n",
        "m = sym.symbols('m')\n",
        "R = sym.symbols('R')\n",
        "M = sym.symbols('M')\n",
        "g = sym.symbols('g')\n",
        "x = sym.Function(r'x')(t)\n",
        "xdot = x.diff(t)\n",
        "xddot = xdot.diff(t)\n",
        "theta = sym.Function(r'\\theta')(t)\n",
        "thetadot = theta.diff(t)\n",
        "thetaddot = thetadot.diff(t)\n",
        "lagrangian = .5*M*xdot**2 + .5*m*((R*sym.cos(theta)*thetadot+xdot)**2 + (-R*sym.sin(theta)*thetadot)**2) - m*g*R*sym.cos(theta)\n",
        "Ldx = lagrangian.diff(x)\n",
        "Ldxdot = lagrangian.diff(xdot)\n",
        "ELx = Ldx - Ldxdot.diff(t)\n",
        "Ldtheta = lagrangian.diff(theta)\n",
        "Ldthetadot = lagrangian.diff(thetadot)\n",
        "ELtheta = Ldtheta - Ldthetadot.diff(t)\n",
        "ELeqs = sym.Matrix([ELx, ELtheta]).T\n",
        "lhs = sym.Matrix([ELx, ELtheta])\n",
        "rhs = sym.Matrix([0, 0])\n",
        "eqn = sym.Eq(lhs, rhs)\n",
        "q = sym.Matrix([xddot, thetaddot])\n",
        "soln = sym.solve(eqn, q, dict=True)\n",
        "for sol in soln:\n",
        "    for v in q:\n",
        "        if v == xddot:\n",
        "          expr1 = sol[v]\n",
        "        if v == thetaddot:\n",
        "          expr2 = sol[v]\n",
        "new_expr1 = expr1.subs([(R, 1), (M, 2), (m, 1), (g, 9.8)])\n",
        "new_expr2 = expr2.subs([(R, 1), (M, 2), (m, 1), (g, 9.8)])\n",
        "\n",
        "funcx = sym.lambdify([x, theta, xdot, thetadot], new_expr1)\n",
        "#(funcx(0, .1, 0, 0)))\n",
        "\n",
        "functheta = sym.lambdify([x, theta, xdot, thetadot], new_expr2)\n",
        "\n",
        "#beginning of new code\n",
        "\n",
        "def xddot(x, theta, xdot, thetadot): #ddot functions\n",
        "    xa = funcx(x, theta, xdot, thetadot)\n",
        "    return xa;\n",
        "\n",
        "def thetaddot(x, theta, xdot, thetadot):\n",
        "    thetaa = functheta(x, theta, xdot, thetadot)\n",
        "    return thetaa;\n",
        "\n",
        "def dyn(s): #dynamic function\n",
        "  return np.array([s[2], s[3], xddot(s[0], s[1], s[2], s[3]), thetaddot(s[0], s[1], s[2], s[3])]);\n",
        "\n",
        "s0 = np.array([0, .1, 0, 0])\n",
        "traj = simulate(dyn, s0, [0, 10], 0.1, integrate) \n",
        "print('\\033[1mShape of traj: \\033[0m', traj.shape)\n",
        "\n",
        "#plot from 0 to 10\n",
        "print(\"x is red, theta is blue\")\n",
        "x_list = np.linspace(0, 10, 100) \n",
        "y_list1 = traj[0]\n",
        "y_list2 = traj[1]\n",
        "plt.plot(x_list, y_list1, 'r')\n",
        "plt.plot(x_list, y_list2, 'b')\n",
        "plt.ylabel(\"Trajectory\")\n",
        "plt.xlabel(\"Time\")\n",
        "plt.show()"
      ],
      "metadata": {
        "id": "873DWPPjUXn5",
        "colab": {
          "base_uri": "https://localhost:8080/",
          "height": 485
        },
        "outputId": "1f689d0b-ec41-4d4f-fe3f-3a9fa8865faa"
      },
      "execution_count": null,
      "outputs": [
        {
          "output_type": "stream",
          "name": "stdout",
          "text": [
            "\u001b[1mShape of traj: \u001b[0m (4, 100)\n",
            "x is red, theta is blue\n"
          ]
        },
        {
          "output_type": "display_data",
          "data": {
            "text/plain": [
              "<Figure size 640x480 with 1 Axes>"
            ],
            "image/png": "[encoded data removed]"
          },
          "metadata": {}
        }
      ]
    },
    {
      "cell_type": "markdown",
      "source": [
        "***\n",
        "\n",
        "## Problem X (0pts)\n",
        "### **Not required for submission!**\n",
        "\n",
        "*NOTE: \"Problem X\" is not required for submission and has zero credit. This is only designed to help you get more familiar with things that are not the primary purposes of this class, but are important in practice, like Python.*\n",
        "\n",
        "You may now have all the code running to compute the dynamics of some \"pendulum stuff\"... and you will need to compute more later in this class! One suggestion here, for the purpose of handling more sophisticated systems (like a triple-pendulum!), is to wrap up your code for this homework into several functions. This is not required, and it's fine if you don't want to do it (you can always go back here after you're more familiar with Python and course materials). This is only for some of you who just want to have more Python in their life, just as the saying goes, \"life is short, use python\".\n",
        "\n",
        "Why is it better to wrap existing code into functions - isn't it a waste of time? Consider a sort of unrelated example: write a program that computes the trace of a matrix, which is the sum of all diagonal elements. If the matrix is already provided, just like we already computed Lagrangian in the homework, we can do something like this:"
      ],
      "metadata": {
        "id": "vr6U6HRFUajR"
      }
    },
    {
      "cell_type": "code",
      "source": [
        "mat = [[1, 2, 3],\n",
        "       [4, 5, 6],\n",
        "       [7, 8, 9]]\n",
        "trace = mat[0][0] + mat[1][1] + mat[2][2]"
      ],
      "metadata": {
        "id": "wlglp0RmUZ2U"
      },
      "execution_count": null,
      "outputs": []
    },
    {
      "cell_type": "markdown",
      "source": [
        "However, what if we need to compute the trace of a 5-by-5 matrix instead? Then we need to rewrite the code! In our simple example, this isn't that annoying or time consuming. However, for more complicated problems it could be very annoying, especially when we find that we are basically doing the same thing every time we rewrite the code - manually adding all the diagonal elements together as well as very tedious, especially in case if there are multiple places in the code where we perform the same calculation. Thus, why don't we just write a function once, and it will handle matrices with all possible dimensions for us? The challenge is that the function doesn't know what matrix it will be provided ahead of time! One solution is to require matrix dimension as a function input (you might find this very common in lower-level programming languages like C/C++). But in Python, we have better choice - querying the dimension of your input! Here's one possible implementation:"
      ],
      "metadata": {
        "id": "vC_wKQnwUd-w"
      }
    },
    {
      "cell_type": "code",
      "source": [
        "def compute_trace(mat):\n",
        "    dim = len(mat)\n",
        "    trace_val = 0\n",
        "    for i in range(dim):\n",
        "        trace_val += mat[i][i]\n",
        "    return trace_val\n",
        "\n",
        "mat = [[1, 2, 3],\n",
        "       [4, 5, 6],\n",
        "       [7, 8, 9]]\n",
        "trace = compute_trace(mat)"
      ],
      "metadata": {
        "id": "wYcHGyGeUdvI"
      },
      "execution_count": null,
      "outputs": []
    },
    {
      "cell_type": "markdown",
      "source": [
        "Python provides some really nice methods to tell us the dimension of the data! While the default is `len()`, given NumPy or SymPy you can also use `.shape()`. In this way, you can generalize your method through the function, and easily reuse your code later. Besides that, depending on the specific scenarios, some methods can naturally avoid encountering number of parameters, like SymPy's matrix `jacobian()` method. Usually these methods are better choices because their implementations are typically more efficient than using loops (loops are slow). \n",
        "    \n",
        "In this homework, one part of your code you can re-write using a function feature is Problem 3. **Try to write a Python function, which takes in the Lagrangian, a list of variables of the Lagrangian, and returns the Euler-Lagrange equation as a SymPy equation object.** The challenge here is that we don't know how many variables will be provided ahead of time, and the example above might inspire you. \n",
        "    \n",
        "Feel free to use template provided below as a starting point. Note that it's highly recommended to document your function as shown below - letting others understand your code is as important as getting your code to run!"
      ],
      "metadata": {
        "id": "4VvmIDLPUfgs"
      }
    },
    {
      "cell_type": "code",
      "source": [
        "def euler_equations(L, funcs, t):\n",
        "    \"\"\"\n",
        "    Find the Euler-Lagrangian equations given the Lagrangian equation.\n",
        "\n",
        "    Parameters:\n",
        "    ============\n",
        "    L: SymPy Expression\n",
        "        L should be a SymPy expression containing necessary system \n",
        "        configuration variables\n",
        "    funcs: list of SymPy Functions\n",
        "        func should included all the system configuration variables\n",
        "        as functions of time variable \"t\" in the Lagrangian\n",
        "    t: SymPy Symbol\n",
        "        time variable\n",
        "\n",
        "    Returns:\n",
        "    ============\n",
        "    eqns: SymPy Equation\n",
        "        eqns is the resulting Euler-Lagrangian equations, it should\n",
        "        be a sinlge SymPy Equation object, each side being a SymPy\n",
        "        Matrix object\n",
        "    \"\"\"\n",
        "    pass # In Python, \"pass\" means \"do nothing\",  many people use it\n",
        "         # to occupy a space so they don't need to implement a function\n",
        "         # while getting the program running. Here you just need to \n",
        "         # replace it with your own implementation."
      ],
      "metadata": {
        "id": "qfwvNYPqUb-c"
      },
      "execution_count": null,
      "outputs": []
    },
    {
      "cell_type": "code",
      "source": [],
      "metadata": {
        "id": "smsePfLWUgZP"
      },
      "execution_count": null,
      "outputs": []
    }
  ]
}